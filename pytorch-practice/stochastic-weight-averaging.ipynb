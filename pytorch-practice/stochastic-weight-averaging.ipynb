{
 "cells": [
  {
   "cell_type": "code",
   "execution_count": 1,
   "metadata": {},
   "outputs": [
    {
     "name": "stderr",
     "output_type": "stream",
     "text": [
      "C:\\Users\\John\\Anaconda3\\envs\\retro\\lib\\site-packages\\h5py\\__init__.py:36: FutureWarning: Conversion of the second argument of issubdtype from `float` to `np.floating` is deprecated. In future, it will be treated as `np.float64 == np.dtype(float).type`.\n",
      "  from ._conv import register_converters as _register_converters\n"
     ]
    }
   ],
   "source": [
    "import torch\n",
    "import torch.nn as nn\n",
    "import torch.nn.functional as F\n",
    "\n",
    "from tensorflow.examples.tutorials.mnist import input_data"
   ]
  },
  {
   "cell_type": "code",
   "execution_count": 2,
   "metadata": {},
   "outputs": [
    {
     "name": "stdout",
     "output_type": "stream",
     "text": [
      "WARNING:tensorflow:From <ipython-input-2-71e12f4bac70>:1: read_data_sets (from tensorflow.contrib.learn.python.learn.datasets.mnist) is deprecated and will be removed in a future version.\n",
      "Instructions for updating:\n",
      "Please use alternatives such as official/mnist/dataset.py from tensorflow/models.\n",
      "WARNING:tensorflow:From C:\\Users\\John\\Anaconda3\\envs\\retro\\lib\\site-packages\\tensorflow\\contrib\\learn\\python\\learn\\datasets\\mnist.py:260: maybe_download (from tensorflow.contrib.learn.python.learn.datasets.base) is deprecated and will be removed in a future version.\n",
      "Instructions for updating:\n",
      "Please write your own downloading logic.\n",
      "WARNING:tensorflow:From C:\\Users\\John\\Anaconda3\\envs\\retro\\lib\\site-packages\\tensorflow\\contrib\\learn\\python\\learn\\datasets\\mnist.py:262: extract_images (from tensorflow.contrib.learn.python.learn.datasets.mnist) is deprecated and will be removed in a future version.\n",
      "Instructions for updating:\n",
      "Please use tf.data to implement this functionality.\n",
      "Extracting MNIST_data\\train-images-idx3-ubyte.gz\n",
      "WARNING:tensorflow:From C:\\Users\\John\\Anaconda3\\envs\\retro\\lib\\site-packages\\tensorflow\\contrib\\learn\\python\\learn\\datasets\\mnist.py:267: extract_labels (from tensorflow.contrib.learn.python.learn.datasets.mnist) is deprecated and will be removed in a future version.\n",
      "Instructions for updating:\n",
      "Please use tf.data to implement this functionality.\n",
      "Extracting MNIST_data\\train-labels-idx1-ubyte.gz\n",
      "WARNING:tensorflow:From C:\\Users\\John\\Anaconda3\\envs\\retro\\lib\\site-packages\\tensorflow\\contrib\\learn\\python\\learn\\datasets\\mnist.py:110: dense_to_one_hot (from tensorflow.contrib.learn.python.learn.datasets.mnist) is deprecated and will be removed in a future version.\n",
      "Instructions for updating:\n",
      "Please use tf.one_hot on tensors.\n",
      "Extracting MNIST_data\\t10k-images-idx3-ubyte.gz\n",
      "Extracting MNIST_data\\t10k-labels-idx1-ubyte.gz\n",
      "WARNING:tensorflow:From C:\\Users\\John\\Anaconda3\\envs\\retro\\lib\\site-packages\\tensorflow\\contrib\\learn\\python\\learn\\datasets\\mnist.py:290: DataSet.__init__ (from tensorflow.contrib.learn.python.learn.datasets.mnist) is deprecated and will be removed in a future version.\n",
      "Instructions for updating:\n",
      "Please use alternatives such as official/mnist/dataset.py from tensorflow/models.\n"
     ]
    }
   ],
   "source": [
    "mnist = input_data.read_data_sets('MNIST_data', one_hot=True)\n"
   ]
  },
  {
   "cell_type": "code",
   "execution_count": 3,
   "metadata": {},
   "outputs": [
    {
     "data": {
      "text/plain": [
       "(55000, 784)"
      ]
     },
     "execution_count": 3,
     "metadata": {},
     "output_type": "execute_result"
    }
   ],
   "source": [
    "mnist.train.images.shape"
   ]
  },
  {
   "cell_type": "code",
   "execution_count": 4,
   "metadata": {},
   "outputs": [
    {
     "data": {
      "text/plain": [
       "28.0"
      ]
     },
     "execution_count": 4,
     "metadata": {},
     "output_type": "execute_result"
    }
   ],
   "source": [
    "784 ** .5"
   ]
  },
  {
   "cell_type": "code",
   "execution_count": 5,
   "metadata": {
    "collapsed": true
   },
   "outputs": [],
   "source": [
    "trainx = mnist.train.images"
   ]
  },
  {
   "cell_type": "code",
   "execution_count": 6,
   "metadata": {
    "collapsed": true
   },
   "outputs": [],
   "source": [
    "testx = mnist.test.images"
   ]
  },
  {
   "cell_type": "code",
   "execution_count": 7,
   "metadata": {
    "collapsed": true
   },
   "outputs": [],
   "source": [
    "trainy = mnist.train.labels"
   ]
  },
  {
   "cell_type": "code",
   "execution_count": 8,
   "metadata": {
    "collapsed": true
   },
   "outputs": [],
   "source": [
    "testy = mnist.test.labels"
   ]
  },
  {
   "cell_type": "code",
   "execution_count": 9,
   "metadata": {},
   "outputs": [
    {
     "data": {
      "text/plain": [
       "((55000, 784), (10000, 784), (55000, 10), (10000, 10))"
      ]
     },
     "execution_count": 9,
     "metadata": {},
     "output_type": "execute_result"
    }
   ],
   "source": [
    "trainx.shape, testx.shape, trainy.shape, testy.shape"
   ]
  },
  {
   "cell_type": "code",
   "execution_count": 10,
   "metadata": {},
   "outputs": [
    {
     "data": {
      "text/plain": [
       "((55000, 1, 28, 28), (10000, 1, 28, 28))"
      ]
     },
     "execution_count": 10,
     "metadata": {},
     "output_type": "execute_result"
    }
   ],
   "source": [
    "trainx = trainx.reshape(-1, 1, 28, 28)\n",
    "testx = testx.reshape(-1, 1, 28, 28)\n",
    "trainx.shape, testx.shape"
   ]
  },
  {
   "cell_type": "code",
   "execution_count": 11,
   "metadata": {
    "collapsed": true
   },
   "outputs": [],
   "source": [
    "class ResLayer(nn.Module):\n",
    "    def __init__(self, in_dim, out_dim, kernel_size, padding, stride = 1, num_resid = 3):\n",
    "        super(ResLayer, self).__init__()\n",
    "        self.conv = nn.Conv2d(in_dim, out_dim, kernel_size, padding = padding, stride = stride)\n",
    "        self.res = nn.Conv2d(out_dim, out_dim, kernel_size, padding = padding)\n",
    "        self.num_resid = num_resid\n",
    "        \n",
    "    def forward(self, x):\n",
    "        x = F.relu(self.conv(x))\n",
    "        for _ in range(self.num_resid):\n",
    "            x_conv = F.relu(self.res(x))\n",
    "            x = F.relu(x + self.res(x_conv))\n",
    "        \n",
    "        return x\n",
    "\n",
    "class MNISTNet(nn.Module):\n",
    "    def __init__(self):\n",
    "        super(MNISTNet, self).__init__()\n",
    "        self.conv1 = ResLayer(1, 32, 5, padding = 2)\n",
    "        self.drop1 = nn.Dropout(.2)\n",
    "        self.conv2 = ResLayer(32, 64, 5, padding = 2, stride = 2)\n",
    "        self.drop2 = nn.Dropout(.3)\n",
    "        self.conv3 = ResLayer(64, 128, 5, padding = 2, stride = 2)\n",
    "        self.drop3 = nn.Dropout(.5)\n",
    "        self.conv_out = nn.Conv2d(128, 10, 7, padding = 0)\n",
    "        \n",
    "        self.layers = nn.Sequential(self.conv1, self.drop1,\n",
    "                                    self.conv2, self.drop2,\n",
    "                                    self.conv3, self.drop3,\n",
    "                                    self.conv_out, nn.Softmax(1))\n",
    "    \n",
    "    def forward(self, images):\n",
    "        return self.layers(images).squeeze()"
   ]
  },
  {
   "cell_type": "code",
   "execution_count": 12,
   "metadata": {},
   "outputs": [
    {
     "data": {
      "text/plain": [
       "tensor([[ 0.1022,  0.0971,  0.0987,  0.1006,  0.0980,  0.1122,  0.0902,\n",
       "          0.1061,  0.0954,  0.0996],\n",
       "        [ 0.1048,  0.0930,  0.1049,  0.1007,  0.0992,  0.1079,  0.0989,\n",
       "          0.0974,  0.0958,  0.0974],\n",
       "        [ 0.1008,  0.1020,  0.1021,  0.1045,  0.1049,  0.0998,  0.0961,\n",
       "          0.0928,  0.0990,  0.0980],\n",
       "        [ 0.1060,  0.0939,  0.0947,  0.0964,  0.1028,  0.1092,  0.0988,\n",
       "          0.0962,  0.1016,  0.1004],\n",
       "        [ 0.0985,  0.0925,  0.0985,  0.1034,  0.1012,  0.1116,  0.1012,\n",
       "          0.0950,  0.0972,  0.1008]])"
      ]
     },
     "execution_count": 12,
     "metadata": {},
     "output_type": "execute_result"
    }
   ],
   "source": [
    "model = MNISTNet()\n",
    "model(torch.FloatTensor(trainx[:5]))"
   ]
  },
  {
   "cell_type": "code",
   "execution_count": 13,
   "metadata": {
    "collapsed": true
   },
   "outputs": [],
   "source": [
    "import numpy as np\n",
    "from math import ceil"
   ]
  },
  {
   "cell_type": "code",
   "execution_count": 14,
   "metadata": {
    "collapsed": true
   },
   "outputs": [],
   "source": [
    "def training_data_generator(trainx, trainy, batch_size = 32, subsample_pct = 1):\n",
    "    n_samples = trainx.shape[0]\n",
    "    indexes = np.random.permutation(n_samples)\n",
    "    n_samples_sub = int(n_samples * subsample_pct)\n",
    "    indexes = indexes[:n_samples_sub]\n",
    "    \n",
    "    for i in range(ceil(n_samples_sub / batch_size)):\n",
    "        start = i * batch_size\n",
    "        end = (i + 1) * batch_size\n",
    "        yield_indices = indexes[start:end]\n",
    "        yield trainx[yield_indices], trainy[yield_indices]"
   ]
  },
  {
   "cell_type": "code",
   "execution_count": 34,
   "metadata": {
    "collapsed": true
   },
   "outputs": [],
   "source": [
    "def adjust_lr(optimizer, epoch, start_lr = .001):\n",
    "    lr = start_lr * (0.9 ** epoch)\n",
    "    for param_group in optimizer.param_groups:\n",
    "        param_group['lr'] = lr\n",
    "    return lr"
   ]
  },
  {
   "cell_type": "code",
   "execution_count": 35,
   "metadata": {
    "collapsed": true
   },
   "outputs": [],
   "source": [
    "model = MNISTNet()\n",
    "optimizer = torch.optim.Adam(model.parameters())"
   ]
  },
  {
   "cell_type": "code",
   "execution_count": 36,
   "metadata": {
    "collapsed": true
   },
   "outputs": [],
   "source": [
    "test_data = torch.FloatTensor(testx)\n",
    "test_data_labels = torch.LongTensor(testy.argmax(1))"
   ]
  },
  {
   "cell_type": "code",
   "execution_count": null,
   "metadata": {},
   "outputs": [
    {
     "name": "stdout",
     "output_type": "stream",
     "text": [
      "SWA Run 0\n",
      "0: LR = 0.0010\n",
      "Training loss: 1.5259553914846375\n",
      "Testing loss: 1.4909248888492583\n",
      "1: LR = 0.0009\n",
      "Training loss: 1.510747754296591\n",
      "Testing loss: 1.494855946302414\n",
      "2: LR = 0.0008\n",
      "Training loss: 1.5038599690725638\n",
      "Testing loss: 1.4875292301177978\n",
      "3: LR = 0.0007\n",
      "Training loss: 1.507502134456191\n",
      "Testing loss: 1.4904719173908234\n",
      "4: LR = 0.0007\n",
      "Training loss: 1.5016566792199777\n",
      "Testing loss: 1.4931854367256165\n",
      "5: LR = 0.0006\n",
      "Training loss: 1.491364789563556\n",
      "Testing loss: 1.4880838990211487\n",
      "6: LR = 0.0005\n",
      "Training loss: 1.491385446038357\n",
      "Testing loss: 1.4863834857940674\n",
      "7: LR = 0.0005\n",
      "Training loss: 1.48805673732314\n",
      "Testing loss: 1.4829363763332366\n",
      "8: LR = 0.0004\n",
      "Training loss: 1.4890346721161243\n",
      "Testing loss: 1.4760433971881866\n",
      "9: LR = 0.0004\n",
      "Training loss: 1.4890114651169888\n",
      "Testing loss: 1.4812898695468903\n",
      "SWA Run 1\n",
      "0: LR = 0.0010\n",
      "Training loss: 1.4937098442121994\n",
      "Testing loss: 1.495544159412384\n",
      "1: LR = 0.0009\n"
     ]
    }
   ],
   "source": [
    "for swa_run in range(10):\n",
    "    print(\"SWA Run {}\".format(swa_run))\n",
    "    for epoch in range(10):\n",
    "        losses = []\n",
    "        test_losses = []\n",
    "        lr = adjust_lr(optimizer, epoch)\n",
    "        print(f\"{epoch}: LR = {lr:.4f}\")\n",
    "        model.train()\n",
    "        for batchx, batchy in training_data_generator(trainx, trainy, batch_size = 128, subsample_pct = .1):\n",
    "            data = torch.FloatTensor(batchx).requires_grad_(True)\n",
    "            labels = torch.LongTensor(batchy.argmax(1))\n",
    "            output = model(data)\n",
    "            loss = F.cross_entropy(output, labels)\n",
    "            losses.append(loss.item())\n",
    "            optimizer.zero_grad()\n",
    "            loss.backward()\n",
    "            optimizer.step()\n",
    "        model.eval()\n",
    "        for batchx, batchy in training_data_generator(testx, testy, batch_size = 128, subsample_pct = .25):\n",
    "            data = torch.FloatTensor(batchx)\n",
    "            labels = torch.LongTensor(batchy.argmax(1))\n",
    "            output = model(data)\n",
    "            loss = F.cross_entropy(output, labels)\n",
    "            test_losses.append(loss.item())\n",
    "        print(\"Training loss: {}\".format(np.mean(losses)))\n",
    "        print(\"Testing loss: {}\".format(np.mean(test_losses)))\n",
    "    torch.save(model.state_dict(), open(f\"swa_run{swa_run}.pth\", \"wb\"))"
   ]
  },
  {
   "cell_type": "code",
   "execution_count": 40,
   "metadata": {},
   "outputs": [
    {
     "data": {
      "text/plain": [
       "((tensor([ 0.9998,  0.9999,  1.0000,  1.0000,  1.0000]),\n",
       "  tensor([ 7,  3,  4,  6,  1])),\n",
       " array([7, 3, 4, ..., 5, 6, 8], dtype=int64))"
      ]
     },
     "execution_count": 40,
     "metadata": {},
     "output_type": "execute_result"
    }
   ],
   "source": [
    "model(torch.FloatTensor(trainx[:5])).max(1), trainy.argmax(1)"
   ]
  },
  {
   "cell_type": "code",
   "execution_count": 56,
   "metadata": {},
   "outputs": [],
   "source": [
    "def batch_predict(testx, batch_size = 128):\n",
    "    outputs = []\n",
    "    for i in range(ceil(len(testx) / batch_size)):\n",
    "        data = torch.FloatTensor(testx[i * batch_size : (i + 1) * batch_size])\n",
    "        preds = model(data)\n",
    "        outputs.append(preds.detach().numpy())\n",
    "    return outputs\n",
    "\n",
    "preds = batch_predict(testx)"
   ]
  },
  {
   "cell_type": "code",
   "execution_count": 57,
   "metadata": {},
   "outputs": [
    {
     "data": {
      "text/plain": [
       "(10000, 10)"
      ]
     },
     "execution_count": 57,
     "metadata": {},
     "output_type": "execute_result"
    }
   ],
   "source": [
    "preds = np.concatenate(preds)\n",
    "preds.shape"
   ]
  },
  {
   "cell_type": "code",
   "execution_count": 58,
   "metadata": {},
   "outputs": [
    {
     "data": {
      "text/plain": [
       "array([2.0819091e-40, 2.9688711e-35, 2.0341120e-24, 3.8765137e-27,\n",
       "       3.9956624e-41, 1.2994479e-39, 0.0000000e+00, 1.0000000e+00,\n",
       "       1.0605987e-31, 1.1210813e-27], dtype=float32)"
      ]
     },
     "execution_count": 58,
     "metadata": {},
     "output_type": "execute_result"
    }
   ],
   "source": [
    "preds[0]"
   ]
  },
  {
   "cell_type": "code",
   "execution_count": 59,
   "metadata": {
    "collapsed": true
   },
   "outputs": [],
   "source": [
    "import matplotlib.pyplot as plt\n",
    "%matplotlib inline"
   ]
  },
  {
   "cell_type": "code",
   "execution_count": 60,
   "metadata": {},
   "outputs": [
    {
     "data": {
      "text/plain": [
       "<matplotlib.image.AxesImage at 0x15cc8c66128>"
      ]
     },
     "execution_count": 60,
     "metadata": {},
     "output_type": "execute_result"
    },
    {
     "data": {
      "image/png": "[encoded data removed]",
      "text/plain": [
       "<Figure size 432x288 with 1 Axes>"
      ]
     },
     "metadata": {},
     "output_type": "display_data"
    }
   ],
   "source": [
    "plt.imshow(testx[0].squeeze())"
   ]
  },
  {
   "cell_type": "code",
   "execution_count": 61,
   "metadata": {},
   "outputs": [
    {
     "data": {
      "text/plain": [
       "0.9705"
      ]
     },
     "execution_count": 61,
     "metadata": {},
     "output_type": "execute_result"
    }
   ],
   "source": [
    "np.mean(preds.argmax(1) == testy.argmax(1))"
   ]
  },
  {
   "cell_type": "markdown",
   "metadata": {},
   "source": [
    "9: LR = 0.0004  \n",
    "Training loss: 1.6006645130556683  \n",
    "Testing loss: 1.5895625472068786"
   ]
  },
  {
   "cell_type": "code",
   "execution_count": 53,
   "metadata": {},
   "outputs": [
    {
     "data": {
      "text/plain": [
       "0.8717"
      ]
     },
     "execution_count": 53,
     "metadata": {},
     "output_type": "execute_result"
    }
   ],
   "source": [
    "np.mean(preds.argmax(1) == testy.argmax(1))"
   ]
  },
  {
   "cell_type": "code",
   "execution_count": 62,
   "metadata": {
    "collapsed": true
   },
   "outputs": [],
   "source": [
    "torch.save(model.state_dict(), open(\"baseline.pth\", \"wb\"))"
   ]
  }
 ],
 "metadata": {
  "kernelspec": {
   "display_name": "Python [conda env:retro]",
   "language": "python",
   "name": "conda-env-retro-py"
  },
  "language_info": {
   "codemirror_mode": {
    "name": "ipython",
    "version": 3
   },
   "file_extension": ".py",
   "mimetype": "text/x-python",
   "name": "python",
   "nbconvert_exporter": "python",
   "pygments_lexer": "ipython3",
   "version": "3.6.5"
  }
 },
 "nbformat": 4,
 "nbformat_minor": 2
}
