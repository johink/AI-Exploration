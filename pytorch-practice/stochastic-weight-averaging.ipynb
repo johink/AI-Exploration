{
 "cells": [
  {
   "cell_type": "code",
   "execution_count": 4,
   "metadata": {
    "collapsed": true
   },
   "outputs": [],
   "source": [
    "import torch\n",
    "import torch.nn as nn\n",
    "import torch.nn.functional as F\n",
    "\n",
    "from tensorflow.examples.tutorials.mnist import input_data"
   ]
  },
  {
   "cell_type": "code",
   "execution_count": 5,
   "metadata": {},
   "outputs": [
    {
     "name": "stdout",
     "output_type": "stream",
     "text": [
      "WARNING:tensorflow:From <ipython-input-5-71e12f4bac70>:1: read_data_sets (from tensorflow.contrib.learn.python.learn.datasets.mnist) is deprecated and will be removed in a future version.\n",
      "Instructions for updating:\n",
      "Please use alternatives such as official/mnist/dataset.py from tensorflow/models.\n",
      "WARNING:tensorflow:From C:\\Users\\John\\Anaconda3\\envs\\retro\\lib\\site-packages\\tensorflow\\contrib\\learn\\python\\learn\\datasets\\mnist.py:260: maybe_download (from tensorflow.contrib.learn.python.learn.datasets.base) is deprecated and will be removed in a future version.\n",
      "Instructions for updating:\n",
      "Please write your own downloading logic.\n",
      "WARNING:tensorflow:From C:\\Users\\John\\Anaconda3\\envs\\retro\\lib\\site-packages\\tensorflow\\contrib\\learn\\python\\learn\\datasets\\base.py:252: _internal_retry.<locals>.wrap.<locals>.wrapped_fn (from tensorflow.contrib.learn.python.learn.datasets.base) is deprecated and will be removed in a future version.\n",
      "Instructions for updating:\n",
      "Please use urllib or similar directly.\n",
      "Successfully downloaded train-images-idx3-ubyte.gz 9912422 bytes.\n",
      "WARNING:tensorflow:From C:\\Users\\John\\Anaconda3\\envs\\retro\\lib\\site-packages\\tensorflow\\contrib\\learn\\python\\learn\\datasets\\mnist.py:262: extract_images (from tensorflow.contrib.learn.python.learn.datasets.mnist) is deprecated and will be removed in a future version.\n",
      "Instructions for updating:\n",
      "Please use tf.data to implement this functionality.\n",
      "Extracting MNIST_data\\train-images-idx3-ubyte.gz\n",
      "Successfully downloaded train-labels-idx1-ubyte.gz 28881 bytes.\n",
      "WARNING:tensorflow:From C:\\Users\\John\\Anaconda3\\envs\\retro\\lib\\site-packages\\tensorflow\\contrib\\learn\\python\\learn\\datasets\\mnist.py:267: extract_labels (from tensorflow.contrib.learn.python.learn.datasets.mnist) is deprecated and will be removed in a future version.\n",
      "Instructions for updating:\n",
      "Please use tf.data to implement this functionality.\n",
      "Extracting MNIST_data\\train-labels-idx1-ubyte.gz\n",
      "WARNING:tensorflow:From C:\\Users\\John\\Anaconda3\\envs\\retro\\lib\\site-packages\\tensorflow\\contrib\\learn\\python\\learn\\datasets\\mnist.py:110: dense_to_one_hot (from tensorflow.contrib.learn.python.learn.datasets.mnist) is deprecated and will be removed in a future version.\n",
      "Instructions for updating:\n",
      "Please use tf.one_hot on tensors.\n",
      "Successfully downloaded t10k-images-idx3-ubyte.gz 1648877 bytes.\n",
      "Extracting MNIST_data\\t10k-images-idx3-ubyte.gz\n",
      "Successfully downloaded t10k-labels-idx1-ubyte.gz 4542 bytes.\n",
      "Extracting MNIST_data\\t10k-labels-idx1-ubyte.gz\n",
      "WARNING:tensorflow:From C:\\Users\\John\\Anaconda3\\envs\\retro\\lib\\site-packages\\tensorflow\\contrib\\learn\\python\\learn\\datasets\\mnist.py:290: DataSet.__init__ (from tensorflow.contrib.learn.python.learn.datasets.mnist) is deprecated and will be removed in a future version.\n",
      "Instructions for updating:\n",
      "Please use alternatives such as official/mnist/dataset.py from tensorflow/models.\n"
     ]
    }
   ],
   "source": [
    "mnist = input_data.read_data_sets('MNIST_data', one_hot=True)\n"
   ]
  },
  {
   "cell_type": "code",
   "execution_count": 10,
   "metadata": {},
   "outputs": [
    {
     "data": {
      "text/plain": [
       "(55000, 784)"
      ]
     },
     "execution_count": 10,
     "metadata": {},
     "output_type": "execute_result"
    }
   ],
   "source": [
    "mnist.train.images.shape"
   ]
  },
  {
   "cell_type": "code",
   "execution_count": 11,
   "metadata": {},
   "outputs": [
    {
     "data": {
      "text/plain": [
       "28.0"
      ]
     },
     "execution_count": 11,
     "metadata": {},
     "output_type": "execute_result"
    }
   ],
   "source": [
    "784 ** .5"
   ]
  },
  {
   "cell_type": "code",
   "execution_count": 13,
   "metadata": {
    "collapsed": true
   },
   "outputs": [],
   "source": [
    "trainx = mnist.train.images"
   ]
  },
  {
   "cell_type": "code",
   "execution_count": 14,
   "metadata": {
    "collapsed": true
   },
   "outputs": [],
   "source": [
    "testx = mnist.test.images"
   ]
  },
  {
   "cell_type": "code",
   "execution_count": 15,
   "metadata": {
    "collapsed": true
   },
   "outputs": [],
   "source": [
    "trainy = mnist.train.labels"
   ]
  },
  {
   "cell_type": "code",
   "execution_count": 16,
   "metadata": {
    "collapsed": true
   },
   "outputs": [],
   "source": [
    "testy = mnist.test.labels"
   ]
  },
  {
   "cell_type": "code",
   "execution_count": 17,
   "metadata": {},
   "outputs": [
    {
     "data": {
      "text/plain": [
       "((55000, 784), (10000, 784), (55000, 10), (10000, 10))"
      ]
     },
     "execution_count": 17,
     "metadata": {},
     "output_type": "execute_result"
    }
   ],
   "source": [
    "trainx.shape, testx.shape, trainy.shape, testy.shape"
   ]
  },
  {
   "cell_type": "code",
   "execution_count": 18,
   "metadata": {},
   "outputs": [
    {
     "data": {
      "text/plain": [
       "((55000, 1, 28, 28), (10000, 1, 28, 28))"
      ]
     },
     "execution_count": 18,
     "metadata": {},
     "output_type": "execute_result"
    }
   ],
   "source": [
    "trainx = trainx.reshape(-1, 1, 28, 28)\n",
    "testx = testx.reshape(-1, 1, 28, 28)\n",
    "trainx.shape, testx.shape"
   ]
  },
  {
   "cell_type": "code",
   "execution_count": 33,
   "metadata": {
    "collapsed": true
   },
   "outputs": [],
   "source": [
    "class ResLayer(nn.Module):\n",
    "    def __init__(self, in_dim, out_dim, kernel_size, padding, stride = 1, num_resid = 3):\n",
    "        super(ResLayer, self).__init__()\n",
    "        self.conv = nn.Conv2d(in_dim, out_dim, kernel_size, padding = padding, stride = stride)\n",
    "        self.res = nn.Conv2d(out_dim, out_dim, kernel_size, padding = padding)\n",
    "        self.num_resid = num_resid\n",
    "        \n",
    "    def forward(self, x):\n",
    "        x = F.relu(self.conv(x))\n",
    "        for _ in range(self.num_resid):\n",
    "            x_conv = F.relu(self.res(x))\n",
    "            x = F.relu(x + self.res(x_conv))\n",
    "        \n",
    "        return x\n",
    "\n",
    "class MNISTNet(nn.Module):\n",
    "    def __init__(self):\n",
    "        super(MNISTNet, self).__init__()\n",
    "        self.conv1 = ResLayer(1, 32, 5, padding = 2)\n",
    "        self.conv2 = ResLayer(32, 64, 5, padding = 2, stride = 2)\n",
    "        self.conv3 = ResLayer(64, 128, 5, padding = 2, stride = 2)\n",
    "        self.conv_out = nn.Conv2d(128, 10, 7, padding = 0)\n",
    "        \n",
    "        self.layers = nn.Sequential(self.conv1, self.conv2, self.conv3, self.conv_out, nn.Softmax(1))\n",
    "    \n",
    "    def forward(self, images):\n",
    "        return self.layers(images).squeeze()"
   ]
  },
  {
   "cell_type": "code",
   "execution_count": 34,
   "metadata": {},
   "outputs": [
    {
     "data": {
      "text/plain": [
       "tensor([[ 0.1019,  0.0974,  0.0999,  0.1040,  0.0997,  0.1012,  0.1036,\n",
       "          0.1037,  0.0914,  0.0971],\n",
       "        [ 0.1029,  0.0963,  0.0978,  0.1018,  0.0995,  0.1023,  0.1049,\n",
       "          0.1040,  0.0903,  0.1003],\n",
       "        [ 0.1008,  0.0962,  0.1002,  0.1022,  0.1016,  0.1009,  0.1031,\n",
       "          0.1047,  0.0915,  0.0989],\n",
       "        [ 0.1028,  0.0956,  0.0991,  0.1022,  0.1007,  0.1012,  0.1031,\n",
       "          0.1050,  0.0925,  0.0979],\n",
       "        [ 0.1036,  0.0966,  0.0982,  0.1013,  0.1021,  0.1010,  0.1021,\n",
       "          0.1041,  0.0933,  0.0976]])"
      ]
     },
     "execution_count": 34,
     "metadata": {},
     "output_type": "execute_result"
    }
   ],
   "source": [
    "model = MNISTNet()\n",
    "model(torch.FloatTensor(trainx[:5]))"
   ]
  },
  {
   "cell_type": "code",
   "execution_count": 1,
   "metadata": {
    "collapsed": true
   },
   "outputs": [],
   "source": [
    "import numpy as np"
   ]
  },
  {
   "cell_type": "code",
   "execution_count": null,
   "metadata": {},
   "outputs": [
    {
     "name": "stdout",
     "output_type": "stream",
     "text": [
      "1: LR = 0.000010\n",
      "2: LR = 0.000013\n",
      "3: LR = 0.000016\n",
      "4: LR = 0.000020\n",
      "5: LR = 0.000026\n"
     ]
    },
    {
     "name": "stderr",
     "output_type": "stream",
     "text": [
      "ERROR:tornado.general:Uncaught exception in ZMQStream callback\n",
      "Traceback (most recent call last):\n",
      "  File \"C:\\Users\\John\\Anaconda3\\envs\\retro\\lib\\site-packages\\IPython\\core\\interactiveshell.py\", line 2963, in run_code\n",
      "    exec(code_obj, self.user_global_ns, self.user_ns)\n",
      "  File \"<ipython-input-51-b0abebd67f79>\", line 15, in <module>\n",
      "    output = model(data)\n",
      "  File \"C:\\Users\\John\\Anaconda3\\envs\\retro\\lib\\site-packages\\torch\\nn\\modules\\module.py\", line 491, in __call__\n",
      "    result = self.forward(*input, **kwargs)\n",
      "  File \"<ipython-input-33-aed885b62452>\", line 27, in forward\n",
      "    return self.layers(images).squeeze()\n",
      "  File \"C:\\Users\\John\\Anaconda3\\envs\\retro\\lib\\site-packages\\torch\\nn\\modules\\module.py\", line 491, in __call__\n",
      "    result = self.forward(*input, **kwargs)\n",
      "  File \"C:\\Users\\John\\Anaconda3\\envs\\retro\\lib\\site-packages\\torch\\nn\\modules\\container.py\", line 91, in forward\n",
      "    input = module(input)\n",
      "  File \"C:\\Users\\John\\Anaconda3\\envs\\retro\\lib\\site-packages\\torch\\nn\\modules\\module.py\", line 491, in __call__\n",
      "    result = self.forward(*input, **kwargs)\n",
      "  File \"<ipython-input-33-aed885b62452>\", line 11, in forward\n",
      "    x_conv = F.relu(self.res(x))\n",
      "  File \"C:\\Users\\John\\Anaconda3\\envs\\retro\\lib\\site-packages\\torch\\nn\\modules\\module.py\", line 491, in __call__\n",
      "    result = self.forward(*input, **kwargs)\n",
      "  File \"C:\\Users\\John\\Anaconda3\\envs\\retro\\lib\\site-packages\\torch\\nn\\modules\\conv.py\", line 301, in forward\n",
      "    self.padding, self.dilation, self.groups)\n",
      "KeyboardInterrupt\n",
      "\n",
      "During handling of the above exception, another exception occurred:\n",
      "\n",
      "Traceback (most recent call last):\n",
      "  File \"C:\\Users\\John\\Anaconda3\\envs\\retro\\lib\\site-packages\\IPython\\core\\interactiveshell.py\", line 1863, in showtraceback\n",
      "    stb = value._render_traceback_()\n",
      "AttributeError: 'KeyboardInterrupt' object has no attribute '_render_traceback_'\n",
      "\n",
      "During handling of the above exception, another exception occurred:\n",
      "\n",
      "Traceback (most recent call last):\n",
      "  File \"C:\\Users\\John\\Anaconda3\\envs\\retro\\lib\\site-packages\\IPython\\core\\ultratb.py\", line 1095, in get_records\n",
      "    return _fixed_getinnerframes(etb, number_of_lines_of_context, tb_offset)\n",
      "  File \"C:\\Users\\John\\Anaconda3\\envs\\retro\\lib\\site-packages\\IPython\\core\\ultratb.py\", line 306, in wrapped\n",
      "    save_findsource = inspect.findsource\n",
      "KeyboardInterrupt\n",
      "\n",
      "During handling of the above exception, another exception occurred:\n",
      "\n",
      "Traceback (most recent call last):\n",
      "  File \"C:\\Users\\John\\Anaconda3\\envs\\retro\\lib\\site-packages\\IPython\\core\\interactiveshell.py\", line 1866, in showtraceback\n",
      "    value, tb, tb_offset=tb_offset)\n",
      "  File \"C:\\Users\\John\\Anaconda3\\envs\\retro\\lib\\site-packages\\IPython\\core\\ultratb.py\", line 1373, in structured_traceback\n",
      "    self, etype, value, tb, tb_offset, number_of_lines_of_context)\n",
      "  File \"C:\\Users\\John\\Anaconda3\\envs\\retro\\lib\\site-packages\\IPython\\core\\ultratb.py\", line 1281, in structured_traceback\n",
      "    self, etype, value, tb, tb_offset, number_of_lines_of_context\n",
      "  File \"C:\\Users\\John\\Anaconda3\\envs\\retro\\lib\\site-packages\\IPython\\core\\ultratb.py\", line 1133, in structured_traceback\n",
      "    tb_offset)\n",
      "  File \"C:\\Users\\John\\Anaconda3\\envs\\retro\\lib\\site-packages\\IPython\\core\\ultratb.py\", line 1071, in format_exception_as_a_whole\n",
      "    records = self.get_records(etb, number_of_lines_of_context, tb_offset)\n",
      "  File \"C:\\Users\\John\\Anaconda3\\envs\\retro\\lib\\site-packages\\IPython\\core\\ultratb.py\", line 1109, in get_records\n",
      "    inspect_error()\n",
      "  File \"C:\\Users\\John\\Anaconda3\\envs\\retro\\lib\\site-packages\\IPython\\core\\ultratb.py\", line 147, in inspect_error\n",
      "    error('Internal Python error in the inspect module.\\n'\n",
      "  File \"C:\\Users\\John\\Anaconda3\\envs\\retro\\lib\\logging\\__init__.py\", line 1866, in error\n",
      "    basicConfig()\n",
      "  File \"C:\\Users\\John\\Anaconda3\\envs\\retro\\lib\\logging\\__init__.py\", line 1809, in basicConfig\n",
      "    h = StreamHandler(stream)\n",
      "  File \"C:\\Users\\John\\Anaconda3\\envs\\retro\\lib\\logging\\__init__.py\", line 964, in __init__\n",
      "    Handler.__init__(self)\n",
      "  File \"C:\\Users\\John\\Anaconda3\\envs\\retro\\lib\\logging\\__init__.py\", line 774, in __init__\n",
      "    Filterer.__init__(self)\n",
      "KeyboardInterrupt\n",
      "\n",
      "During handling of the above exception, another exception occurred:\n",
      "\n",
      "Traceback (most recent call last):\n",
      "  File \"C:\\Users\\John\\Anaconda3\\envs\\retro\\lib\\linecache.py\", line 74, in checkcache\n",
      "    stat = os.stat(fullname)\n",
      "OSError: [WinError 123] The filename, directory name, or volume label syntax is incorrect: '<ipython-input-33-aed885b62452>'\n",
      "\n",
      "During handling of the above exception, another exception occurred:\n",
      "\n",
      "Traceback (most recent call last):\n",
      "  File \"C:\\Users\\John\\Anaconda3\\envs\\retro\\lib\\site-packages\\IPython\\core\\interactiveshell.py\", line 2903, in run_ast_nodes\n",
      "    if self.run_code(code, result):\n",
      "  File \"C:\\Users\\John\\Anaconda3\\envs\\retro\\lib\\site-packages\\IPython\\core\\interactiveshell.py\", line 2980, in run_code\n",
      "    self.showtraceback(running_compiled_code=True)\n",
      "  File \"C:\\Users\\John\\Anaconda3\\envs\\retro\\lib\\site-packages\\IPython\\core\\interactiveshell.py\", line 1878, in showtraceback\n",
      "    print('\\n' + self.get_exception_only(), file=sys.stderr)\n",
      "  File \"C:\\Users\\John\\Anaconda3\\envs\\retro\\lib\\site-packages\\IPython\\core\\interactiveshell.py\", line 1823, in get_exception_only\n",
      "    msg = traceback.format_exception_only(etype, value)\n",
      "  File \"C:\\Users\\John\\Anaconda3\\envs\\retro\\lib\\traceback.py\", line 136, in format_exception_only\n",
      "    return list(TracebackException(etype, value, None).format_exception_only())\n",
      "  File \"C:\\Users\\John\\Anaconda3\\envs\\retro\\lib\\traceback.py\", line 486, in __init__\n",
      "    _seen=_seen)\n",
      "  File \"C:\\Users\\John\\Anaconda3\\envs\\retro\\lib\\traceback.py\", line 486, in __init__\n",
      "    _seen=_seen)\n",
      "  File \"C:\\Users\\John\\Anaconda3\\envs\\retro\\lib\\traceback.py\", line 486, in __init__\n",
      "    _seen=_seen)\n",
      "  File \"C:\\Users\\John\\Anaconda3\\envs\\retro\\lib\\traceback.py\", line 497, in __init__\n",
      "    capture_locals=capture_locals)\n",
      "  File \"C:\\Users\\John\\Anaconda3\\envs\\retro\\lib\\traceback.py\", line 354, in extract\n",
      "    linecache.checkcache(filename)\n",
      "  File \"C:\\Users\\John\\Anaconda3\\envs\\retro\\lib\\site-packages\\IPython\\core\\compilerop.py\", line 140, in check_linecache_ipython\n",
      "    linecache._checkcache_ori(*args)\n",
      "  File \"C:\\Users\\John\\Anaconda3\\envs\\retro\\lib\\linecache.py\", line 74, in checkcache\n",
      "    stat = os.stat(fullname)\n",
      "KeyboardInterrupt\n",
      "\n",
      "During handling of the above exception, another exception occurred:\n",
      "\n",
      "Traceback (most recent call last):\n",
      "  File \"C:\\Users\\John\\Anaconda3\\envs\\retro\\lib\\site-packages\\IPython\\core\\interactiveshell.py\", line 1863, in showtraceback\n",
      "    stb = value._render_traceback_()\n",
      "AttributeError: 'KeyboardInterrupt' object has no attribute '_render_traceback_'\n",
      "\n",
      "During handling of the above exception, another exception occurred:\n",
      "\n",
      "Traceback (most recent call last):\n",
      "  File \"C:\\Users\\John\\Anaconda3\\envs\\retro\\lib\\linecache.py\", line 136, in updatecache\n",
      "    with tokenize.open(fullname) as fp:\n",
      "  File \"C:\\Users\\John\\Anaconda3\\envs\\retro\\lib\\tokenize.py\", line 452, in open\n",
      "    buffer = _builtin_open(filename, 'rb')\n",
      "KeyboardInterrupt\n",
      "\n",
      "During handling of the above exception, another exception occurred:\n",
      "\n",
      "Traceback (most recent call last):\n",
      "  File \"C:\\Users\\John\\Anaconda3\\envs\\retro\\lib\\site-packages\\IPython\\core\\ultratb.py\", line 1095, in get_records\n",
      "    return _fixed_getinnerframes(etb, number_of_lines_of_context, tb_offset)\n",
      "  File \"C:\\Users\\John\\Anaconda3\\envs\\retro\\lib\\site-packages\\IPython\\core\\ultratb.py\", line 311, in wrapped\n",
      "    return f(*args, **kwargs)\n",
      "  File \"C:\\Users\\John\\Anaconda3\\envs\\retro\\lib\\site-packages\\IPython\\core\\ultratb.py\", line 345, in _fixed_getinnerframes\n",
      "    records = fix_frame_records_filenames(inspect.getinnerframes(etb, context))\n",
      "  File \"C:\\Users\\John\\Anaconda3\\envs\\retro\\lib\\inspect.py\", line 1483, in getinnerframes\n",
      "    frameinfo = (tb.tb_frame,) + getframeinfo(tb, context)\n",
      "  File \"C:\\Users\\John\\Anaconda3\\envs\\retro\\lib\\inspect.py\", line 1445, in getframeinfo\n",
      "    lines, lnum = findsource(frame)\n",
      "  File \"C:\\Users\\John\\Anaconda3\\envs\\retro\\lib\\site-packages\\IPython\\core\\ultratb.py\", line 177, in findsource\n",
      "    lines = linecache.getlines(file, globals_dict)\n",
      "  File \"C:\\Users\\John\\Anaconda3\\envs\\retro\\lib\\linecache.py\", line 47, in getlines\n",
      "    return updatecache(filename, module_globals)\n",
      "  File \"C:\\Users\\John\\Anaconda3\\envs\\retro\\lib\\linecache.py\", line 136, in updatecache\n",
      "    with tokenize.open(fullname) as fp:\n",
      "KeyboardInterrupt\n",
      "\n",
      "During handling of the above exception, another exception occurred:\n",
      "\n",
      "Traceback (most recent call last):\n",
      "  File \"C:\\Users\\John\\Anaconda3\\envs\\retro\\lib\\site-packages\\IPython\\core\\interactiveshell.py\", line 1866, in showtraceback\n",
      "    value, tb, tb_offset=tb_offset)\n",
      "  File \"C:\\Users\\John\\Anaconda3\\envs\\retro\\lib\\site-packages\\IPython\\core\\ultratb.py\", line 1373, in structured_traceback\n",
      "    self, etype, value, tb, tb_offset, number_of_lines_of_context)\n",
      "  File \"C:\\Users\\John\\Anaconda3\\envs\\retro\\lib\\site-packages\\IPython\\core\\ultratb.py\", line 1281, in structured_traceback\n",
      "    self, etype, value, tb, tb_offset, number_of_lines_of_context\n",
      "  File \"C:\\Users\\John\\Anaconda3\\envs\\retro\\lib\\site-packages\\IPython\\core\\ultratb.py\", line 1133, in structured_traceback\n",
      "    tb_offset)\n",
      "  File \"C:\\Users\\John\\Anaconda3\\envs\\retro\\lib\\site-packages\\IPython\\core\\ultratb.py\", line 1071, in format_exception_as_a_whole\n",
      "    records = self.get_records(etb, number_of_lines_of_context, tb_offset)\n",
      "  File \"C:\\Users\\John\\Anaconda3\\envs\\retro\\lib\\site-packages\\IPython\\core\\ultratb.py\", line 1109, in get_records\n",
      "    inspect_error()\n",
      "  File \"C:\\Users\\John\\Anaconda3\\envs\\retro\\lib\\site-packages\\IPython\\core\\ultratb.py\", line 147, in inspect_error\n",
      "    error('Internal Python error in the inspect module.\\n'\n",
      "  File \"C:\\Users\\John\\Anaconda3\\envs\\retro\\lib\\logging\\__init__.py\", line 1867, in error\n",
      "    root.error(msg, *args, **kwargs)\n",
      "  File \"C:\\Users\\John\\Anaconda3\\envs\\retro\\lib\\logging\\__init__.py\", line 1335, in error\n",
      "    self._log(ERROR, msg, args, **kwargs)\n",
      "  File \"C:\\Users\\John\\Anaconda3\\envs\\retro\\lib\\logging\\__init__.py\", line 1441, in _log\n",
      "    exc_info, func, extra, sinfo)\n",
      "  File \"C:\\Users\\John\\Anaconda3\\envs\\retro\\lib\\logging\\__init__.py\", line 1411, in makeRecord\n",
      "    sinfo)\n",
      "  File \"C:\\Users\\John\\Anaconda3\\envs\\retro\\lib\\logging\\__init__.py\", line 286, in __init__\n",
      "    self.module = os.path.splitext(self.filename)[0]\n",
      "  File \"C:\\Users\\John\\Anaconda3\\envs\\retro\\lib\\ntpath.py\", line 228, in splitext\n",
      "    return genericpath._splitext(p, '\\\\', '/', '.')\n",
      "  File \"C:\\Users\\John\\Anaconda3\\envs\\retro\\lib\\genericpath.py\", line 125, in _splitext\n",
      "    if altsep:\n",
      "KeyboardInterrupt\n",
      "\n",
      "During handling of the above exception, another exception occurred:\n",
      "\n",
      "Traceback (most recent call last):\n",
      "  File \"C:\\Users\\John\\Anaconda3\\envs\\retro\\lib\\site-packages\\IPython\\core\\interactiveshell.py\", line 2662, in run_cell\n",
      "    raw_cell, store_history, silent, shell_futures)\n",
      "  File \"C:\\Users\\John\\Anaconda3\\envs\\retro\\lib\\site-packages\\IPython\\core\\interactiveshell.py\", line 2785, in _run_cell\n",
      "    interactivity=interactivity, compiler=compiler, result=result)\n",
      "  File \"C:\\Users\\John\\Anaconda3\\envs\\retro\\lib\\site-packages\\IPython\\core\\interactiveshell.py\", line 2928, in run_ast_nodes\n",
      "    self.showtraceback()\n",
      "  File \"C:\\Users\\John\\Anaconda3\\envs\\retro\\lib\\site-packages\\IPython\\core\\interactiveshell.py\", line 1878, in showtraceback\n",
      "    print('\\n' + self.get_exception_only(), file=sys.stderr)\n",
      "  File \"C:\\Users\\John\\Anaconda3\\envs\\retro\\lib\\site-packages\\IPython\\core\\interactiveshell.py\", line 1823, in get_exception_only\n",
      "    msg = traceback.format_exception_only(etype, value)\n",
      "  File \"C:\\Users\\John\\Anaconda3\\envs\\retro\\lib\\traceback.py\", line 136, in format_exception_only\n",
      "    return list(TracebackException(etype, value, None).format_exception_only())\n",
      "  File \"C:\\Users\\John\\Anaconda3\\envs\\retro\\lib\\traceback.py\", line 486, in __init__\n",
      "    _seen=_seen)\n",
      "  File \"C:\\Users\\John\\Anaconda3\\envs\\retro\\lib\\traceback.py\", line 486, in __init__\n",
      "    _seen=_seen)\n",
      "  File \"C:\\Users\\John\\Anaconda3\\envs\\retro\\lib\\traceback.py\", line 486, in __init__\n",
      "    _seen=_seen)\n",
      "  [Previous line repeated 5 more times]\n",
      "  File \"C:\\Users\\John\\Anaconda3\\envs\\retro\\lib\\traceback.py\", line 497, in __init__\n",
      "    capture_locals=capture_locals)\n",
      "  File \"C:\\Users\\John\\Anaconda3\\envs\\retro\\lib\\traceback.py\", line 354, in extract\n",
      "    linecache.checkcache(filename)\n",
      "  File \"C:\\Users\\John\\Anaconda3\\envs\\retro\\lib\\site-packages\\IPython\\core\\compilerop.py\", line 140, in check_linecache_ipython\n",
      "    linecache._checkcache_ori(*args)\n",
      "  File \"C:\\Users\\John\\Anaconda3\\envs\\retro\\lib\\linecache.py\", line 74, in checkcache\n",
      "    stat = os.stat(fullname)\n",
      "KeyboardInterrupt\n",
      "\n",
      "During handling of the above exception, another exception occurred:\n",
      "\n",
      "Traceback (most recent call last):\n",
      "  File \"C:\\Users\\John\\Anaconda3\\envs\\retro\\lib\\site-packages\\ipykernel\\kernelbase.py\", line 233, in dispatch_shell\n",
      "    handler(stream, idents, msg)\n",
      "  File \"C:\\Users\\John\\Anaconda3\\envs\\retro\\lib\\site-packages\\ipykernel\\kernelbase.py\", line 399, in execute_request\n",
      "    user_expressions, allow_stdin)\n",
      "  File \"C:\\Users\\John\\Anaconda3\\envs\\retro\\lib\\site-packages\\ipykernel\\ipkernel.py\", line 208, in do_execute\n",
      "    res = shell.run_cell(code, store_history=store_history, silent=silent)\n",
      "  File \"C:\\Users\\John\\Anaconda3\\envs\\retro\\lib\\site-packages\\ipykernel\\zmqshell.py\", line 537, in run_cell\n",
      "    return super(ZMQInteractiveShell, self).run_cell(*args, **kwargs)\n",
      "  File \"C:\\Users\\John\\Anaconda3\\envs\\retro\\lib\\site-packages\\IPython\\core\\interactiveshell.py\", line 2666, in run_cell\n",
      "    self.events.trigger('post_run_cell', result)\n",
      "UnboundLocalError: local variable 'result' referenced before assignment\n",
      "\n",
      "During handling of the above exception, another exception occurred:\n",
      "\n",
      "Traceback (most recent call last):\n",
      "  File \"C:\\Users\\John\\Anaconda3\\envs\\retro\\lib\\site-packages\\zmq\\eventloop\\zmqstream.py\", line 432, in _run_callback\n",
      "    callback(*args, **kwargs)\n",
      "  File \"C:\\Users\\John\\Anaconda3\\envs\\retro\\lib\\site-packages\\tornado\\stack_context.py\", line 276, in null_wrapper\n",
      "    return fn(*args, **kwargs)\n",
      "  File \"C:\\Users\\John\\Anaconda3\\envs\\retro\\lib\\site-packages\\ipykernel\\kernelbase.py\", line 283, in dispatcher\n",
      "    return self.dispatch_shell(stream, msg)\n",
      "  File \"C:\\Users\\John\\Anaconda3\\envs\\retro\\lib\\site-packages\\ipykernel\\kernelbase.py\", line 235, in dispatch_shell\n",
      "    self.log.error(\"Exception in message handler:\", exc_info=True)\n",
      "  File \"C:\\Users\\John\\Anaconda3\\envs\\retro\\lib\\logging\\__init__.py\", line 1335, in error\n",
      "    self._log(ERROR, msg, args, **kwargs)\n",
      "  File \"C:\\Users\\John\\Anaconda3\\envs\\retro\\lib\\logging\\__init__.py\", line 1441, in _log\n",
      "    exc_info, func, extra, sinfo)\n",
      "  File \"C:\\Users\\John\\Anaconda3\\envs\\retro\\lib\\logging\\__init__.py\", line 1411, in makeRecord\n",
      "    sinfo)\n",
      "  File \"C:\\Users\\John\\Anaconda3\\envs\\retro\\lib\\logging\\__init__.py\", line 315, in __init__\n",
      "    self.processName = mp.current_process().name\n",
      "  File \"C:\\Users\\John\\Anaconda3\\envs\\retro\\lib\\multiprocessing\\process.py\", line 148, in name\n",
      "    return self._name\n",
      "KeyboardInterrupt\n"
     ]
    }
   ],
   "source": [
    "lrs = np.logspace(-5, 0)\n",
    "losses = []\n",
    "sample_indices = np.random.choice(range(10000), size = 128, replace = False)\n",
    "\n",
    "test_data = torch.FloatTensor(testx[sample_indices])\n",
    "data_labels = torch.LongTensor(trainy[sample_indices]).argmax(1)\n",
    "test_data_labels = torch.LongTensor(testy[sample_indices]).argmax(1)\n",
    "\n",
    "for i, lr in enumerate(lrs, start = 1):\n",
    "    print(f\"{i}: LR = {lr:.6f}\")\n",
    "    data = torch.FloatTensor(trainx[sample_indices]).requires_grad_(True)\n",
    "    torch.manual_seed(1)\n",
    "    model = MNISTNet()\n",
    "    optimizer = torch.optim.Adam(model.parameters(), lr)\n",
    "    output = model(data)\n",
    "    loss = F.cross_entropy(output, data_labels)\n",
    "    optimizer.zero_grad()\n",
    "    loss.backward()\n",
    "    optimizer.step()\n",
    "    test_output = model(test_data)\n",
    "    test_loss = F.cross_entropy(test_output, test_data_labels)\n",
    "    losses.append(test_loss)"
   ]
  }
 ],
 "metadata": {
  "kernelspec": {
   "display_name": "Python [conda env:retro]",
   "language": "python",
   "name": "conda-env-retro-py"
  },
  "language_info": {
   "codemirror_mode": {
    "name": "ipython",
    "version": 3
   },
   "file_extension": ".py",
   "mimetype": "text/x-python",
   "name": "python",
   "nbconvert_exporter": "python",
   "pygments_lexer": "ipython3",
   "version": "3.6.5"
  }
 },
 "nbformat": 4,
 "nbformat_minor": 2
}
