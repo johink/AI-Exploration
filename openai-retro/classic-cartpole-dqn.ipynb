{
 "cells": [
  {
   "cell_type": "code",
   "execution_count": 1,
   "metadata": {
    "collapsed": true
   },
   "outputs": [],
   "source": [
    "#Recreating a simple DQN with PyTorch"
   ]
  },
  {
   "cell_type": "code",
   "execution_count": 2,
   "metadata": {},
   "outputs": [],
   "source": [
    "import gym\n",
    "import random\n",
    "import numpy as np\n",
    "\n",
    "from collections import deque\n",
    "\n",
    "import torch\n",
    "from torch import Tensor\n",
    "import torch.optim as optim\n",
    "import torch.autograd as autograd\n",
    "import torch.nn as nn\n",
    "import torch.nn.functional as F\n",
    "\n",
    "import matplotlib.pyplot as plt\n",
    "plt.style.use('ggplot')\n",
    "\n",
    "%matplotlib inline"
   ]
  },
  {
   "cell_type": "code",
   "execution_count": 3,
   "metadata": {
    "collapsed": true
   },
   "outputs": [],
   "source": [
    "BATCH_SIZE = 32\n",
    "ENV_NAME = \"CartPole-v0\"\n",
    "USE_CUDA = torch.cuda.is_available()\n",
    "GAMMA = .99"
   ]
  },
  {
   "cell_type": "code",
   "execution_count": 4,
   "metadata": {
    "collapsed": true
   },
   "outputs": [],
   "source": [
    "def Variable(*args, **kwargs):\n",
    "    if USE_CUDA:\n",
    "        return autograd.Variable(*args, **kwargs).cuda()\n",
    "    else:\n",
    "        return autograd.Variable(*args, **kwargs)"
   ]
  },
  {
   "cell_type": "code",
   "execution_count": 5,
   "metadata": {},
   "outputs": [
    {
     "name": "stdout",
     "output_type": "stream",
     "text": [
      "\u001b[33mWARN: gym.spaces.Box autodetected dtype as <class 'numpy.float32'>. Please provide explicit dtype.\u001b[0m\n"
     ]
    }
   ],
   "source": [
    "env = gym.make(ENV_NAME)"
   ]
  },
  {
   "cell_type": "code",
   "execution_count": 28,
   "metadata": {
    "collapsed": true
   },
   "outputs": [],
   "source": [
    "class DQN(nn.Module):\n",
    "    def __init__(self, env, num_extra_dense = 1):\n",
    "        super(DQN, self).__init__()\n",
    "        \n",
    "        self.input_shape = env.observation_space.shape[0]\n",
    "        self.output_shape = env.action_space.n\n",
    "        \n",
    "        layers = [nn.Linear(self.input_shape, 64 * 2 ** num_extra_dense),\n",
    "            nn.LeakyReLU(),\n",
    "            #nn.Dropout(.2),\n",
    "            #nn.BatchNorm2d(64 * 2 ** num_extra_dense)\n",
    "                 ]\n",
    "        \n",
    "        for i in range(num_extra_dense, 0, -1):\n",
    "            layers.extend([\n",
    "                nn.Linear(64 * 2 ** i, 64 * 2 ** (i - 1)),\n",
    "                nn.LeakyReLU(),\n",
    "                #nn.Dropout(.2),\n",
    "                #nn.BatchNorm2d(64 * 2 ** (i - 1)) \n",
    "            ])\n",
    "            \n",
    "        layers.append(nn.Linear(64, self.output_shape))\n",
    "        \n",
    "        self.layers = nn.Sequential(*layers)\n",
    "    \n",
    "    def forward(self, x):\n",
    "        return self.layers(x)\n",
    "    \n",
    "    def get_action(self, state, epsilon):\n",
    "        if random.random() < epsilon:\n",
    "            return random.randrange(0, self.output_shape)\n",
    "        else:\n",
    "            self.eval()\n",
    "            predictions = self(state)\n",
    "            self.train()\n",
    "            return int(predictions.data.numpy().argmax())"
   ]
  },
  {
   "cell_type": "code",
   "execution_count": 29,
   "metadata": {
    "collapsed": true
   },
   "outputs": [],
   "source": [
    "def pass_weights(origin, destination):\n",
    "    destination.load_state_dict(origin.state_dict())"
   ]
  },
  {
   "cell_type": "code",
   "execution_count": 30,
   "metadata": {},
   "outputs": [
    {
     "data": {
      "text/plain": [
       "DQN(\n",
       "  (layers): Sequential(\n",
       "    (0): Linear(in_features=4, out_features=128, bias=True)\n",
       "    (1): LeakyReLU(0.01)\n",
       "    (2): Linear(in_features=128, out_features=64, bias=True)\n",
       "    (3): LeakyReLU(0.01)\n",
       "    (4): Linear(in_features=64, out_features=2, bias=True)\n",
       "  )\n",
       ")"
      ]
     },
     "execution_count": 30,
     "metadata": {},
     "output_type": "execute_result"
    }
   ],
   "source": [
    "current_network = DQN(env)\n",
    "target_network = DQN(env)\n",
    "\n",
    "if USE_CUDA:\n",
    "    current_network = current_network.cuda()\n",
    "    target_network = target_network.cuda()\n",
    "    \n",
    "pass_weights(current_network, target_network)\n",
    "current_network"
   ]
  },
  {
   "cell_type": "code",
   "execution_count": 31,
   "metadata": {},
   "outputs": [],
   "source": [
    "class ReplayBuffer:\n",
    "    def __init__(self, capacity):\n",
    "        self.buffer = deque(maxlen = capacity)\n",
    "        \n",
    "    def add(self, data):\n",
    "        self.buffer.append(data)\n",
    "    \n",
    "    def sample(self, n = BATCH_SIZE):\n",
    "        length = len(self.buffer)\n",
    "        return [self.buffer[random.randrange(length)] for _ in range(n)]\n",
    "\n",
    "    def __len__(self):\n",
    "        return len(self.buffer)"
   ]
  },
  {
   "cell_type": "code",
   "execution_count": 32,
   "metadata": {
    "collapsed": true
   },
   "outputs": [],
   "source": [
    "from IPython.display import clear_output\n",
    "def plot_progress(rewards):\n",
    "    clear_output(True)\n",
    "    plt.figure(figsize = (12, 4))\n",
    "    plt.subplot(111)\n",
    "    plt.title(\"Rewards\")\n",
    "    plt.plot(rewards)\n",
    "    plt.show()"
   ]
  },
  {
   "cell_type": "code",
   "execution_count": 33,
   "metadata": {
    "collapsed": true
   },
   "outputs": [],
   "source": [
    "optimizer = optim.Adam(current_network.parameters())"
   ]
  },
  {
   "cell_type": "markdown",
   "metadata": {},
   "source": [
    "Loss function from https://danieltakeshi.github.io/2016/12/01/going-deeper-into-reinforcement-learning-understanding-dqn/"
   ]
  },
  {
   "cell_type": "markdown",
   "metadata": {},
   "source": [
    "\\begin{align}\n",
    "L(\\theta) &= \\mathbb{E}_{(s,a,r,s')}\\left[\\frac{1}{2}({\\rm Bellman} - Q(s,a;\\theta))^2\\right] \\\\\n",
    "&=\n",
    "\\mathbb{E}_{(s,a,r,s')}\\left[\\frac{1}{2}\\left(R(s,a,s')+\\gamma\\max_{a'}Q(s',a';\\theta) - Q(s,a;\\theta)\\right)^2\\right]\n",
    "\\end{align}"
   ]
  },
  {
   "cell_type": "code",
   "execution_count": 34,
   "metadata": {
    "collapsed": true
   },
   "outputs": [],
   "source": [
    "def train():\n",
    "    samples = buffer.sample(BATCH_SIZE)\n",
    "    states, actions, rewards, next_states, dones = zip(*samples)\n",
    "\n",
    "    states = Variable(Tensor(np.stack(states)))\n",
    "    next_states = Variable(Tensor(np.stack(next_states)))\n",
    "    actions = Variable(torch.LongTensor(actions))\n",
    "    rewards = Variable(Tensor(rewards))\n",
    "    dones = Variable(Tensor(dones))\n",
    "\n",
    "    q_values = current_network(states)\n",
    "    next_q_values = current_network(next_states)\n",
    "    next_q_values_target = target_network(next_states)\n",
    "\n",
    "    q_values_chosen_action = q_values.gather(1, actions.unsqueeze(1))\n",
    "    q_values_best_next_action = next_q_values.gather(1, next_q_values_target.max(1)[1].unsqueeze(1))\n",
    "\n",
    "    expected_q_value = rewards + GAMMA * q_values_best_next_action.squeeze() * (1 - dones)\n",
    "    \n",
    "    loss = F.smooth_l1_loss(q_values_chosen_action, Variable(expected_q_value.data))\n",
    "\n",
    "    optimizer.zero_grad()\n",
    "    loss.backward()\n",
    "    \n",
    "    for param in current_network.parameters():\n",
    "        param.grad.data.clamp_(-1, 1)\n",
    "    \n",
    "    optimizer.step()"
   ]
  },
  {
   "cell_type": "code",
   "execution_count": 35,
   "metadata": {},
   "outputs": [
    {
     "data": {
      "text/plain": [
       "[<matplotlib.lines.Line2D at 0x26ff2a96f60>]"
      ]
     },
     "execution_count": 35,
     "metadata": {},
     "output_type": "execute_result"
    },
    {
     "data": {
      "image/png": "[encoded data removed]",
      "text/plain": [
       "<Figure size 432x288 with 1 Axes>"
      ]
     },
     "metadata": {},
     "output_type": "display_data"
    }
   ],
   "source": [
    "epsilon_end = .01\n",
    "epsilon_start = 1\n",
    "decay_period = 10000\n",
    "def epsilon_decay(i):\n",
    "    return epsilon_end + (epsilon_start - epsilon_end) * .5 ** (i / decay_period)\n",
    "\n",
    "plt.plot([epsilon_decay(i) for i in range(100000)])"
   ]
  },
  {
   "cell_type": "code",
   "execution_count": 36,
   "metadata": {},
   "outputs": [
    {
     "data": {
      "image/png": "[encoded data removed]",
      "text/plain": [
       "<Figure size 864x288 with 1 Axes>"
      ]
     },
     "metadata": {},
     "output_type": "display_data"
    },
    {
     "ename": "KeyboardInterrupt",
     "evalue": "",
     "output_type": "error",
     "traceback": [
      "\u001b[1;31m---------------------------------------------------------------------------\u001b[0m",
      "\u001b[1;31mKeyboardInterrupt\u001b[0m                         Traceback (most recent call last)",
      "\u001b[1;32m<ipython-input-36-7abf466b5cd3>\u001b[0m in \u001b[0;36m<module>\u001b[1;34m()\u001b[0m\n\u001b[0;32m     21\u001b[0m \u001b[1;33m\u001b[0m\u001b[0m\n\u001b[0;32m     22\u001b[0m         \u001b[1;32mif\u001b[0m \u001b[0mlen\u001b[0m\u001b[1;33m(\u001b[0m\u001b[0mbuffer\u001b[0m\u001b[1;33m)\u001b[0m \u001b[1;33m>\u001b[0m \u001b[0mBATCH_SIZE\u001b[0m\u001b[1;33m:\u001b[0m\u001b[1;33m\u001b[0m\u001b[0m\n\u001b[1;32m---> 23\u001b[1;33m             \u001b[0mtrain\u001b[0m\u001b[1;33m(\u001b[0m\u001b[1;33m)\u001b[0m\u001b[1;33m\u001b[0m\u001b[0m\n\u001b[0m\u001b[0;32m     24\u001b[0m \u001b[1;33m\u001b[0m\u001b[0m\n\u001b[0;32m     25\u001b[0m         \u001b[1;32mif\u001b[0m \u001b[0mi\u001b[0m \u001b[1;33m%\u001b[0m \u001b[1;36m10000\u001b[0m \u001b[1;33m==\u001b[0m \u001b[1;36m0\u001b[0m\u001b[1;33m:\u001b[0m\u001b[1;33m\u001b[0m\u001b[0m\n",
      "\u001b[1;32m<ipython-input-34-53a8e266228d>\u001b[0m in \u001b[0;36mtrain\u001b[1;34m()\u001b[0m\n\u001b[0;32m     26\u001b[0m         \u001b[0mparam\u001b[0m\u001b[1;33m.\u001b[0m\u001b[0mgrad\u001b[0m\u001b[1;33m.\u001b[0m\u001b[0mdata\u001b[0m\u001b[1;33m.\u001b[0m\u001b[0mclamp_\u001b[0m\u001b[1;33m(\u001b[0m\u001b[1;33m-\u001b[0m\u001b[1;36m1\u001b[0m\u001b[1;33m,\u001b[0m \u001b[1;36m1\u001b[0m\u001b[1;33m)\u001b[0m\u001b[1;33m\u001b[0m\u001b[0m\n\u001b[0;32m     27\u001b[0m \u001b[1;33m\u001b[0m\u001b[0m\n\u001b[1;32m---> 28\u001b[1;33m     \u001b[0moptimizer\u001b[0m\u001b[1;33m.\u001b[0m\u001b[0mstep\u001b[0m\u001b[1;33m(\u001b[0m\u001b[1;33m)\u001b[0m\u001b[1;33m\u001b[0m\u001b[0m\n\u001b[0m",
      "\u001b[1;32m~\\Anaconda3\\envs\\retro\\lib\\site-packages\\torch\\optim\\adam.py\u001b[0m in \u001b[0;36mstep\u001b[1;34m(self, closure)\u001b[0m\n\u001b[0;32m     76\u001b[0m                 \u001b[0mstep_size\u001b[0m \u001b[1;33m=\u001b[0m \u001b[0mgroup\u001b[0m\u001b[1;33m[\u001b[0m\u001b[1;34m'lr'\u001b[0m\u001b[1;33m]\u001b[0m \u001b[1;33m*\u001b[0m \u001b[0mmath\u001b[0m\u001b[1;33m.\u001b[0m\u001b[0msqrt\u001b[0m\u001b[1;33m(\u001b[0m\u001b[0mbias_correction2\u001b[0m\u001b[1;33m)\u001b[0m \u001b[1;33m/\u001b[0m \u001b[0mbias_correction1\u001b[0m\u001b[1;33m\u001b[0m\u001b[0m\n\u001b[0;32m     77\u001b[0m \u001b[1;33m\u001b[0m\u001b[0m\n\u001b[1;32m---> 78\u001b[1;33m                 \u001b[0mp\u001b[0m\u001b[1;33m.\u001b[0m\u001b[0mdata\u001b[0m\u001b[1;33m.\u001b[0m\u001b[0maddcdiv_\u001b[0m\u001b[1;33m(\u001b[0m\u001b[1;33m-\u001b[0m\u001b[0mstep_size\u001b[0m\u001b[1;33m,\u001b[0m \u001b[0mexp_avg\u001b[0m\u001b[1;33m,\u001b[0m \u001b[0mdenom\u001b[0m\u001b[1;33m)\u001b[0m\u001b[1;33m\u001b[0m\u001b[0m\n\u001b[0m\u001b[0;32m     79\u001b[0m \u001b[1;33m\u001b[0m\u001b[0m\n\u001b[0;32m     80\u001b[0m         \u001b[1;32mreturn\u001b[0m \u001b[0mloss\u001b[0m\u001b[1;33m\u001b[0m\u001b[0m\n",
      "\u001b[1;31mKeyboardInterrupt\u001b[0m: "
     ]
    }
   ],
   "source": [
    "buffer = ReplayBuffer(1000)\n",
    "\n",
    "rewards = []\n",
    "i = 0\n",
    "for game in range(1,10001):\n",
    "    done = False\n",
    "    state = env.reset()\n",
    "    total_reward = 0\n",
    "    while not done:\n",
    "        i += 1\n",
    "        preprocessed = Variable(Tensor(state[None, ...]))\n",
    "        action = current_network.get_action(preprocessed, epsilon_decay(i))\n",
    "        \n",
    "        next_state, reward, done, _ = env.step(action)\n",
    "        total_reward += reward\n",
    "        \n",
    "        data = (state, action, reward, next_state, done)\n",
    "        buffer.add(data)\n",
    "        \n",
    "        state = next_state\n",
    "        \n",
    "        if len(buffer) > BATCH_SIZE:\n",
    "            train()\n",
    "        \n",
    "        if i % 10000 == 0:\n",
    "            pass_weights(current_network, target_network)\n",
    "    \n",
    "    rewards.append(total_reward)\n",
    "    if game % 100 == 0:\n",
    "        plot_progress(rewards)"
   ]
  },
  {
   "cell_type": "code",
   "execution_count": null,
   "metadata": {},
   "outputs": [],
   "source": [
    "from collections import Counter\n",
    "Counter([buffer.buffer[i][1] for i in range(len(buffer))])"
   ]
  },
  {
   "cell_type": "code",
   "execution_count": null,
   "metadata": {},
   "outputs": [],
   "source": [
    "epsilon_decay(i)"
   ]
  },
  {
   "cell_type": "code",
   "execution_count": null,
   "metadata": {},
   "outputs": [],
   "source": [
    "i"
   ]
  },
  {
   "cell_type": "code",
   "execution_count": null,
   "metadata": {
    "collapsed": true
   },
   "outputs": [],
   "source": []
  }
 ],
 "metadata": {
  "kernelspec": {
   "display_name": "Python [conda env:retro]",
   "language": "python",
   "name": "conda-env-retro-py"
  },
  "language_info": {
   "codemirror_mode": {
    "name": "ipython",
    "version": 3
   },
   "file_extension": ".py",
   "mimetype": "text/x-python",
   "name": "python",
   "nbconvert_exporter": "python",
   "pygments_lexer": "ipython3",
   "version": "3.6.5"
  }
 },
 "nbformat": 4,
 "nbformat_minor": 2
}
