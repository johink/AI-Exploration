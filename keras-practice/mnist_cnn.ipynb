{
 "cells": [
  {
   "cell_type": "code",
   "execution_count": 1,
   "metadata": {},
   "outputs": [
    {
     "name": "stderr",
     "output_type": "stream",
     "text": [
      "Using TensorFlow backend.\n"
     ]
    }
   ],
   "source": [
    "import keras\n",
    "import numpy as np\n",
    "import matplotlib.pyplot as plt\n",
    "plt.style.use('ggplot')\n",
    "%matplotlib inline\n",
    "\n",
    "from keras.datasets import mnist\n",
    "from keras.layers import Conv2D, Dense, Flatten, Dropout"
   ]
  },
  {
   "cell_type": "code",
   "execution_count": 2,
   "metadata": {},
   "outputs": [],
   "source": [
    "(Xtrain, ytrain), (Xtest, ytest) = mnist.load_data()"
   ]
  },
  {
   "cell_type": "code",
   "execution_count": 3,
   "metadata": {},
   "outputs": [
    {
     "data": {
      "text/plain": [
       "(28, 28)"
      ]
     },
     "execution_count": 3,
     "metadata": {},
     "output_type": "execute_result"
    }
   ],
   "source": [
    "Xtrain[0].shape"
   ]
  },
  {
   "cell_type": "code",
   "execution_count": 4,
   "metadata": {},
   "outputs": [
    {
     "data": {
      "text/plain": [
       "(28, 28, 1)"
      ]
     },
     "execution_count": 4,
     "metadata": {},
     "output_type": "execute_result"
    }
   ],
   "source": [
    "nrow, ncol = Xtrain[0].shape\n",
    "input_shape = (nrow, ncol, 1)\n",
    "\n",
    "# rows, columns, channels\n",
    "input_shape"
   ]
  },
  {
   "cell_type": "code",
   "execution_count": 5,
   "metadata": {},
   "outputs": [
    {
     "data": {
      "text/plain": [
       "10"
      ]
     },
     "execution_count": 5,
     "metadata": {},
     "output_type": "execute_result"
    }
   ],
   "source": [
    "nclass = len(np.unique(ytrain))\n",
    "nclass"
   ]
  },
  {
   "cell_type": "code",
   "execution_count": 6,
   "metadata": {},
   "outputs": [],
   "source": [
    "model = keras.models.Sequential()\n",
    "model.add(Conv2D(16, (5, 5), activation = \"relu\", input_shape = input_shape))\n",
    "model.add(Conv2D(32, (5, 5), activation = \"relu\"))\n",
    "model.add(Dropout(.25))\n",
    "model.add(Conv2D(64, (5, 5), activation = \"relu\"))\n",
    "model.add(Flatten())\n",
    "model.add(Dense(128, activation = \"relu\"))\n",
    "model.add(Dropout(.25))\n",
    "model.add(Dense(nclass, activation = \"softmax\"))"
   ]
  },
  {
   "cell_type": "code",
   "execution_count": 7,
   "metadata": {
    "collapsed": true
   },
   "outputs": [],
   "source": [
    "model.compile(keras.optimizers.nadam(), \n",
    "              keras.losses.categorical_crossentropy, [\"accuracy\"])"
   ]
  },
  {
   "cell_type": "code",
   "execution_count": 13,
   "metadata": {
    "collapsed": true
   },
   "outputs": [],
   "source": [
    "#Scale to values between 0 and 1 indicating pixel intensity\n",
    "Xtrain = Xtrain.astype(np.float32) / 255\n",
    "Xtest = Xtest.astype(np.float32) / 255\n",
    "\n",
    "#Add additional flat dimension\n",
    "Xtrain = Xtrain.reshape(Xtrain.shape + (1,))\n",
    "Xtest = Xtest.reshape(Xtest.shape + (1,))"
   ]
  },
  {
   "cell_type": "code",
   "execution_count": 9,
   "metadata": {},
   "outputs": [
    {
     "data": {
      "text/plain": [
       "array([5, 0, 4, 1, 9], dtype=uint8)"
      ]
     },
     "execution_count": 9,
     "metadata": {},
     "output_type": "execute_result"
    }
   ],
   "source": [
    "ytrain[:5]"
   ]
  },
  {
   "cell_type": "code",
   "execution_count": 10,
   "metadata": {},
   "outputs": [
    {
     "data": {
      "text/plain": [
       "array([[ 0.,  0.,  0.,  0.,  0.,  1.,  0.,  0.,  0.,  0.],\n",
       "       [ 1.,  0.,  0.,  0.,  0.,  0.,  0.,  0.,  0.,  0.],\n",
       "       [ 0.,  0.,  0.,  0.,  1.,  0.,  0.,  0.,  0.,  0.],\n",
       "       [ 0.,  1.,  0.,  0.,  0.,  0.,  0.,  0.,  0.,  0.],\n",
       "       [ 0.,  0.,  0.,  0.,  0.,  0.,  0.,  0.,  0.,  1.]])"
      ]
     },
     "execution_count": 10,
     "metadata": {},
     "output_type": "execute_result"
    }
   ],
   "source": [
    "#Convert column of class labels to one-hot-encoded matrix\n",
    "ytrain = keras.utils.to_categorical(ytrain, nclass)\n",
    "ytest = keras.utils.to_categorical(ytest, nclass)\n",
    "ytrain[:5]"
   ]
  },
  {
   "cell_type": "code",
   "execution_count": 14,
   "metadata": {},
   "outputs": [
    {
     "name": "stdout",
     "output_type": "stream",
     "text": [
      "Epoch 1/20\n",
      "60000/60000 [==============================] - 167s - loss: 0.4404 - acc: 0.8554   \n",
      "Epoch 2/20\n",
      "60000/60000 [==============================] - 170s - loss: 0.1106 - acc: 0.9672   \n",
      "Epoch 3/20\n",
      "60000/60000 [==============================] - 170s - loss: 0.0805 - acc: 0.9754   \n",
      "Epoch 4/20\n",
      "60000/60000 [==============================] - 170s - loss: 0.0638 - acc: 0.9807   \n",
      "Epoch 5/20\n",
      "60000/60000 [==============================] - 171s - loss: 0.0507 - acc: 0.9843   \n",
      "Epoch 6/20\n",
      "60000/60000 [==============================] - 172s - loss: 0.0433 - acc: 0.9866   \n",
      "Epoch 7/20\n",
      "60000/60000 [==============================] - 180s - loss: 0.0371 - acc: 0.9877   \n",
      "Epoch 8/20\n",
      "60000/60000 [==============================] - 172s - loss: 0.0337 - acc: 0.9890   \n",
      "Epoch 9/20\n",
      "60000/60000 [==============================] - 177s - loss: 0.0291 - acc: 0.9909   \n",
      "Epoch 10/20\n",
      "60000/60000 [==============================] - 169s - loss: 0.0254 - acc: 0.9916   \n",
      "Epoch 11/20\n",
      "60000/60000 [==============================] - 170s - loss: 0.0231 - acc: 0.9926   \n",
      "Epoch 12/20\n",
      "60000/60000 [==============================] - 170s - loss: 0.0211 - acc: 0.9932   \n",
      "Epoch 13/20\n",
      "60000/60000 [==============================] - 169s - loss: 0.0207 - acc: 0.9927   \n",
      "Epoch 14/20\n",
      "60000/60000 [==============================] - 170s - loss: 0.0169 - acc: 0.9943   \n",
      "Epoch 15/20\n",
      "60000/60000 [==============================] - 173s - loss: 0.0160 - acc: 0.9946   \n",
      "Epoch 16/20\n",
      "60000/60000 [==============================] - 172s - loss: 0.0167 - acc: 0.9946   \n",
      "Epoch 17/20\n",
      "60000/60000 [==============================] - 171s - loss: 0.0152 - acc: 0.9947   \n",
      "Epoch 18/20\n",
      "60000/60000 [==============================] - 168s - loss: 0.0143 - acc: 0.9951   \n",
      "Epoch 19/20\n",
      "60000/60000 [==============================] - 167s - loss: 0.0126 - acc: 0.9959   \n",
      "Epoch 20/20\n",
      "60000/60000 [==============================] - 167s - loss: 0.0131 - acc: 0.9957   \n"
     ]
    }
   ],
   "source": [
    "history = model.fit(Xtrain, ytrain, batch_size = 128, epochs = 20)"
   ]
  },
  {
   "cell_type": "code",
   "execution_count": 16,
   "metadata": {},
   "outputs": [
    {
     "data": {
      "text/plain": [
       "[<matplotlib.lines.Line2D at 0x21b00db2a20>]"
      ]
     },
     "execution_count": 16,
     "metadata": {},
     "output_type": "execute_result"
    },
    {
     "data": {
      "image/png": "[encoded data removed]",
      "text/plain": [
       "<matplotlib.figure.Figure at 0x21b007894a8>"
      ]
     },
     "metadata": {},
     "output_type": "display_data"
    }
   ],
   "source": [
    "plt.plot(history.history[\"loss\"])"
   ]
  },
  {
   "cell_type": "code",
   "execution_count": 21,
   "metadata": {},
   "outputs": [
    {
     "data": {
      "text/plain": [
       "[<matplotlib.lines.Line2D at 0x21b00a5c828>]"
      ]
     },
     "execution_count": 21,
     "metadata": {},
     "output_type": "execute_result"
    },
    {
     "data": {
      "image/png": "[encoded data removed]",
      "text/plain": [
       "<matplotlib.figure.Figure at 0x21b009d4320>"
      ]
     },
     "metadata": {},
     "output_type": "display_data"
    }
   ],
   "source": [
    "plt.plot(history.history[\"acc\"])"
   ]
  },
  {
   "cell_type": "code",
   "execution_count": 22,
   "metadata": {},
   "outputs": [
    {
     "name": "stdout",
     "output_type": "stream",
     "text": [
      " 9984/10000 [============================>.] - ETA: 0s"
     ]
    }
   ],
   "source": [
    "scores = model.evaluate(Xtest, ytest)"
   ]
  },
  {
   "cell_type": "code",
   "execution_count": 23,
   "metadata": {},
   "outputs": [
    {
     "data": {
      "text/plain": [
       "[0.036193810128145425, 0.99109999999999998]"
      ]
     },
     "execution_count": 23,
     "metadata": {},
     "output_type": "execute_result"
    }
   ],
   "source": [
    "# Loss, Accuracy\n",
    "scores"
   ]
  }
 ],
 "metadata": {
  "kernelspec": {
   "display_name": "Python [default]",
   "language": "python",
   "name": "python3"
  },
  "language_info": {
   "codemirror_mode": {
    "name": "ipython",
    "version": 3
   },
   "file_extension": ".py",
   "mimetype": "text/x-python",
   "name": "python",
   "nbconvert_exporter": "python",
   "pygments_lexer": "ipython3",
   "version": "3.6.0"
  }
 },
 "nbformat": 4,
 "nbformat_minor": 2
}
