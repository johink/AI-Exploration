{
 "cells": [
  {
   "cell_type": "code",
   "execution_count": 1,
   "metadata": {},
   "outputs": [
    {
     "name": "stderr",
     "output_type": "stream",
     "text": [
      "Using TensorFlow backend.\n"
     ]
    }
   ],
   "source": [
    "from keras.layers import LSTM, Dense\n",
    "import pandas as pd\n",
    "import numpy as np"
   ]
  },
  {
   "cell_type": "code",
   "execution_count": 2,
   "metadata": {},
   "outputs": [
    {
     "data": {
      "text/html": [
       "<div>\n",
       "<style scoped>\n",
       "    .dataframe tbody tr th:only-of-type {\n",
       "        vertical-align: middle;\n",
       "    }\n",
       "\n",
       "    .dataframe tbody tr th {\n",
       "        vertical-align: top;\n",
       "    }\n",
       "\n",
       "    .dataframe thead th {\n",
       "        text-align: right;\n",
       "    }\n",
       "</style>\n",
       "<table border=\"1\" class=\"dataframe\">\n",
       "  <thead>\n",
       "    <tr style=\"text-align: right;\">\n",
       "      <th></th>\n",
       "      <th>artist</th>\n",
       "      <th>song</th>\n",
       "      <th>link</th>\n",
       "      <th>text</th>\n",
       "    </tr>\n",
       "  </thead>\n",
       "  <tbody>\n",
       "    <tr>\n",
       "      <th>0</th>\n",
       "      <td>ABBA</td>\n",
       "      <td>Ahe's My Kind Of Girl</td>\n",
       "      <td>/a/abba/ahes+my+kind+of+girl_20598417.html</td>\n",
       "      <td>Look at her face, it's a wonderful face  \\nAnd...</td>\n",
       "    </tr>\n",
       "    <tr>\n",
       "      <th>1</th>\n",
       "      <td>ABBA</td>\n",
       "      <td>Andante, Andante</td>\n",
       "      <td>/a/abba/andante+andante_20002708.html</td>\n",
       "      <td>Take it easy with me, please  \\nTouch me gentl...</td>\n",
       "    </tr>\n",
       "    <tr>\n",
       "      <th>2</th>\n",
       "      <td>ABBA</td>\n",
       "      <td>As Good As New</td>\n",
       "      <td>/a/abba/as+good+as+new_20003033.html</td>\n",
       "      <td>I'll never know why I had to go  \\nWhy I had t...</td>\n",
       "    </tr>\n",
       "    <tr>\n",
       "      <th>3</th>\n",
       "      <td>ABBA</td>\n",
       "      <td>Bang</td>\n",
       "      <td>/a/abba/bang_20598415.html</td>\n",
       "      <td>Making somebody happy is a question of give an...</td>\n",
       "    </tr>\n",
       "    <tr>\n",
       "      <th>4</th>\n",
       "      <td>ABBA</td>\n",
       "      <td>Bang-A-Boomerang</td>\n",
       "      <td>/a/abba/bang+a+boomerang_20002668.html</td>\n",
       "      <td>Making somebody happy is a question of give an...</td>\n",
       "    </tr>\n",
       "  </tbody>\n",
       "</table>\n",
       "</div>"
      ],
      "text/plain": [
       "  artist                   song                                        link  \\\n",
       "0   ABBA  Ahe's My Kind Of Girl  /a/abba/ahes+my+kind+of+girl_20598417.html   \n",
       "1   ABBA       Andante, Andante       /a/abba/andante+andante_20002708.html   \n",
       "2   ABBA         As Good As New        /a/abba/as+good+as+new_20003033.html   \n",
       "3   ABBA                   Bang                  /a/abba/bang_20598415.html   \n",
       "4   ABBA       Bang-A-Boomerang      /a/abba/bang+a+boomerang_20002668.html   \n",
       "\n",
       "                                                text  \n",
       "0  Look at her face, it's a wonderful face  \\nAnd...  \n",
       "1  Take it easy with me, please  \\nTouch me gentl...  \n",
       "2  I'll never know why I had to go  \\nWhy I had t...  \n",
       "3  Making somebody happy is a question of give an...  \n",
       "4  Making somebody happy is a question of give an...  "
      ]
     },
     "execution_count": 2,
     "metadata": {},
     "output_type": "execute_result"
    }
   ],
   "source": [
    "song_df = pd.read_csv(\"data/songlyrics/songdata.csv\")\n",
    "song_df.head()"
   ]
  },
  {
   "cell_type": "code",
   "execution_count": 3,
   "metadata": {
    "scrolled": true
   },
   "outputs": [
    {
     "data": {
      "text/plain": [
       "\"Look at her face, it's a wonderful face  \\nAnd it means something special to me  \\nLook at the way that she smiles when she sees me  \\nHow lucky can one fellow be?  \\n  \\nShe's just my kind of girl, she makes me feel fine  \\nWho could ever believe that she could be mine?  \\nShe's just my kind of girl, without her I'm blue  \\nAnd if she ever leaves me what could I do, what could I do?  \\n  \\nAnd when we go for a walk in the park  \\nAnd she holds me and squeezes my hand  \\nWe'll go on walking for hours and talking  \\nAbout all the things that we plan  \\n  \\nShe's just my kind of girl, she makes me feel fine  \\nWho could ever believe that she could be mine?  \\nShe's just my kind of girl, without her I'm blue  \\nAnd if she ever leaves me what could I do, what could I do?\\n\\n\""
      ]
     },
     "execution_count": 3,
     "metadata": {},
     "output_type": "execute_result"
    }
   ],
   "source": [
    "song_df.at[0, \"text\"]"
   ]
  },
  {
   "cell_type": "code",
   "execution_count": 4,
   "metadata": {
    "collapsed": true
   },
   "outputs": [],
   "source": [
    "#Changed my mind\n",
    "import re\n",
    "punct = list(\".,?!\")\n",
    "\n",
    "def clean_lyrics(lyrics):\n",
    "    for p in punct:\n",
    "        lyrics = lyrics.replace(p, \" {} \".format(p))\n",
    "    for p in [\"(\",\")\"]:\n",
    "        lyrics = lyrics.replace(p, \"\")\n",
    "    lyrics = re.sub(\"\\s+\", \" \", lyrics)\n",
    "    return np.array([\"START\"] + lyrics.lower().split() + [\"END\"])"
   ]
  },
  {
   "cell_type": "code",
   "execution_count": 5,
   "metadata": {
    "collapsed": true
   },
   "outputs": [],
   "source": [
    "def clean_lyrics(lyrics):\n",
    "    lyrics = lyrics.replace(\"\\n\", \"\").lower()\n",
    "    lyrics = re.sub(\"\\s+\", \" \", lyrics)\n",
    "    return \"S\" + lyrics + \"E\""
   ]
  },
  {
   "cell_type": "code",
   "execution_count": 6,
   "metadata": {},
   "outputs": [
    {
     "data": {
      "text/plain": [
       "\"Slook at her face, it's a wonderful face and it means something special to me look at the way that she smiles when she sees me how lucky can one fellow be? she's just my kind of girl, she makes me feel fine who could ever believe that she could be mine? she's just my kind of girl, without her i'm blue and if she ever leaves me what could i do, what could i do? and when we go for a walk in the park and she holds me and squeezes my hand we'll go on walking for hours and talking about all the things that we plan she's just my kind of girl, she makes me feel fine who could ever believe that she could be mine? she's just my kind of girl, without her i'm blue and if she ever leaves me what could i do, what could i do?E\""
      ]
     },
     "execution_count": 6,
     "metadata": {},
     "output_type": "execute_result"
    }
   ],
   "source": [
    "clean_lyrics(song_df.at[0, \"text\"])"
   ]
  },
  {
   "cell_type": "code",
   "execution_count": 7,
   "metadata": {},
   "outputs": [],
   "source": [
    "song_df[\"clean\"] = song_df.text.apply(clean_lyrics)"
   ]
  },
  {
   "cell_type": "code",
   "execution_count": 8,
   "metadata": {},
   "outputs": [
    {
     "data": {
      "text/html": [
       "<div>\n",
       "<style scoped>\n",
       "    .dataframe tbody tr th:only-of-type {\n",
       "        vertical-align: middle;\n",
       "    }\n",
       "\n",
       "    .dataframe tbody tr th {\n",
       "        vertical-align: top;\n",
       "    }\n",
       "\n",
       "    .dataframe thead th {\n",
       "        text-align: right;\n",
       "    }\n",
       "</style>\n",
       "<table border=\"1\" class=\"dataframe\">\n",
       "  <thead>\n",
       "    <tr style=\"text-align: right;\">\n",
       "      <th></th>\n",
       "      <th>artist</th>\n",
       "      <th>song</th>\n",
       "      <th>link</th>\n",
       "      <th>text</th>\n",
       "      <th>clean</th>\n",
       "    </tr>\n",
       "  </thead>\n",
       "  <tbody>\n",
       "    <tr>\n",
       "      <th>0</th>\n",
       "      <td>ABBA</td>\n",
       "      <td>Ahe's My Kind Of Girl</td>\n",
       "      <td>/a/abba/ahes+my+kind+of+girl_20598417.html</td>\n",
       "      <td>Look at her face, it's a wonderful face  \\nAnd...</td>\n",
       "      <td>Slook at her face, it's a wonderful face and i...</td>\n",
       "    </tr>\n",
       "    <tr>\n",
       "      <th>1</th>\n",
       "      <td>ABBA</td>\n",
       "      <td>Andante, Andante</td>\n",
       "      <td>/a/abba/andante+andante_20002708.html</td>\n",
       "      <td>Take it easy with me, please  \\nTouch me gentl...</td>\n",
       "      <td>Stake it easy with me, please touch me gently ...</td>\n",
       "    </tr>\n",
       "    <tr>\n",
       "      <th>2</th>\n",
       "      <td>ABBA</td>\n",
       "      <td>As Good As New</td>\n",
       "      <td>/a/abba/as+good+as+new_20003033.html</td>\n",
       "      <td>I'll never know why I had to go  \\nWhy I had t...</td>\n",
       "      <td>Si'll never know why i had to go why i had to ...</td>\n",
       "    </tr>\n",
       "    <tr>\n",
       "      <th>3</th>\n",
       "      <td>ABBA</td>\n",
       "      <td>Bang</td>\n",
       "      <td>/a/abba/bang_20598415.html</td>\n",
       "      <td>Making somebody happy is a question of give an...</td>\n",
       "      <td>Smaking somebody happy is a question of give a...</td>\n",
       "    </tr>\n",
       "    <tr>\n",
       "      <th>4</th>\n",
       "      <td>ABBA</td>\n",
       "      <td>Bang-A-Boomerang</td>\n",
       "      <td>/a/abba/bang+a+boomerang_20002668.html</td>\n",
       "      <td>Making somebody happy is a question of give an...</td>\n",
       "      <td>Smaking somebody happy is a question of give a...</td>\n",
       "    </tr>\n",
       "  </tbody>\n",
       "</table>\n",
       "</div>"
      ],
      "text/plain": [
       "  artist                   song                                        link  \\\n",
       "0   ABBA  Ahe's My Kind Of Girl  /a/abba/ahes+my+kind+of+girl_20598417.html   \n",
       "1   ABBA       Andante, Andante       /a/abba/andante+andante_20002708.html   \n",
       "2   ABBA         As Good As New        /a/abba/as+good+as+new_20003033.html   \n",
       "3   ABBA                   Bang                  /a/abba/bang_20598415.html   \n",
       "4   ABBA       Bang-A-Boomerang      /a/abba/bang+a+boomerang_20002668.html   \n",
       "\n",
       "                                                text  \\\n",
       "0  Look at her face, it's a wonderful face  \\nAnd...   \n",
       "1  Take it easy with me, please  \\nTouch me gentl...   \n",
       "2  I'll never know why I had to go  \\nWhy I had t...   \n",
       "3  Making somebody happy is a question of give an...   \n",
       "4  Making somebody happy is a question of give an...   \n",
       "\n",
       "                                               clean  \n",
       "0  Slook at her face, it's a wonderful face and i...  \n",
       "1  Stake it easy with me, please touch me gently ...  \n",
       "2  Si'll never know why i had to go why i had to ...  \n",
       "3  Smaking somebody happy is a question of give a...  \n",
       "4  Smaking somebody happy is a question of give a...  "
      ]
     },
     "execution_count": 8,
     "metadata": {},
     "output_type": "execute_result"
    }
   ],
   "source": [
    "song_df.head()"
   ]
  },
  {
   "cell_type": "code",
   "execution_count": 9,
   "metadata": {
    "scrolled": false
   },
   "outputs": [
    {
     "data": {
      "text/plain": [
       "\"Slook at her face, it's a wonderful face and it means something special to me look at the way that she smiles when she sees me how lucky can one fellow be? she's just my kind of girl, she makes me feel fine who could ever believe that she could be mine? she's just my kind of girl, without her i'm blue and if she ever leaves me what could i do, what could i do? and when we go for a walk in the park and she holds me and squeezes my hand we'll go on walking for hours and talking about all the things that we plan she's just my kind of girl, she makes me feel fine who could ever believe that she could be mine? she's just my kind of girl, without her i'm blue and if she ever leaves me what could i do, what could i do?E\""
      ]
     },
     "execution_count": 9,
     "metadata": {},
     "output_type": "execute_result"
    }
   ],
   "source": [
    "data = song_df.clean.values\n",
    "data[0]"
   ]
  },
  {
   "cell_type": "code",
   "execution_count": 10,
   "metadata": {},
   "outputs": [
    {
     "data": {
      "text/plain": [
       "51"
      ]
     },
     "execution_count": 10,
     "metadata": {},
     "output_type": "execute_result"
    }
   ],
   "source": [
    "from itertools import chain\n",
    "word_set = set(chain(*data))\n",
    "len(word_set)"
   ]
  },
  {
   "cell_type": "code",
   "execution_count": 11,
   "metadata": {},
   "outputs": [
    {
     "data": {
      "text/plain": [
       "63190685"
      ]
     },
     "execution_count": 11,
     "metadata": {},
     "output_type": "execute_result"
    }
   ],
   "source": [
    "len(list(chain(*data)))"
   ]
  },
  {
   "cell_type": "code",
   "execution_count": 12,
   "metadata": {
    "collapsed": true
   },
   "outputs": [],
   "source": [
    "N = len(data)\n",
    "K = len(word_set)\n",
    "SEQ_LEN = 64"
   ]
  },
  {
   "cell_type": "code",
   "execution_count": 13,
   "metadata": {
    "collapsed": true
   },
   "outputs": [],
   "source": [
    "letter2idx = dict((c, i) for i, c in enumerate(word_set))\n",
    "idx2letter = dict((i, c) for i, c in enumerate(word_set))"
   ]
  },
  {
   "cell_type": "code",
   "execution_count": 20,
   "metadata": {
    "collapsed": true
   },
   "outputs": [],
   "source": [
    "def create_batch(data, n=128, p_start = .1):\n",
    "    #Create a batch of n samples, each row in X representing SEQ_LEN letters from a song\n",
    "    #with each row in y representing the one-hot encoding of the next letter (or the STOP character \"S\")\n",
    "    #p_start determines the probability of starting at the beginning of the song vice a random point\n",
    "    X = np.zeros((n, SEQ_LEN, K))\n",
    "    y = np.zeros((n, K))\n",
    "    \n",
    "    for i in range(n):\n",
    "        song_idx = np.random.choice(N)\n",
    "        song_len = len(data[song_idx])\n",
    "        if np.random.rand() < p_start:\n",
    "            start_idx = 0\n",
    "        else:\n",
    "            start_idx = min(np.random.choice(song_len), song_len - SEQ_LEN - 1)\n",
    "        \n",
    "        for j, letter in enumerate(data[song_idx][start_idx:start_idx + SEQ_LEN]):\n",
    "            letter_idx = letter2idx[letter]\n",
    "            X[i, j, letter_idx] = 1\n",
    "            \n",
    "        next_letter_idx = letter2idx[data[song_idx][start_idx + SEQ_LEN]]\n",
    "        y[i, next_letter_idx] = 1\n",
    "    \n",
    "    return X, y"
   ]
  },
  {
   "cell_type": "code",
   "execution_count": 22,
   "metadata": {},
   "outputs": [],
   "source": [
    "X, y = create_batch(data)"
   ]
  },
  {
   "cell_type": "code",
   "execution_count": 32,
   "metadata": {
    "collapsed": true
   },
   "outputs": [],
   "source": [
    "blah = iter(range(len(X)))"
   ]
  },
  {
   "cell_type": "code",
   "execution_count": 67,
   "metadata": {},
   "outputs": [
    {
     "data": {
      "text/plain": [
       "('e, not me one of us is winterhearted one of us is cold as ice on', 'e')"
      ]
     },
     "execution_count": 67,
     "metadata": {},
     "output_type": "execute_result"
    }
   ],
   "source": [
    "i = next(blah)\n",
    "\"\".join([idx2letter[idx] for idx in X[i].argmax(axis = 1)]), idx2letter[y[i].argmax()]"
   ]
  },
  {
   "cell_type": "code",
   "execution_count": 28,
   "metadata": {},
   "outputs": [
    {
     "data": {
      "text/plain": [
       "['t',\n",
       " ' ',\n",
       " 't',\n",
       " 't',\n",
       " 'E',\n",
       " ' ',\n",
       " 's',\n",
       " 'i',\n",
       " 'c',\n",
       " 'y',\n",
       " 'l',\n",
       " ' ',\n",
       " ' ',\n",
       " 'u',\n",
       " 'o',\n",
       " ' ',\n",
       " 'g',\n",
       " ',',\n",
       " 'i',\n",
       " 'a',\n",
       " 'E',\n",
       " ' ',\n",
       " 'a',\n",
       " 'a',\n",
       " 'e',\n",
       " 'r',\n",
       " ' ',\n",
       " 'n',\n",
       " 'e',\n",
       " 's',\n",
       " 't',\n",
       " ' ',\n",
       " \"'\",\n",
       " 'd',\n",
       " 'e',\n",
       " 'E',\n",
       " 'd',\n",
       " 'n',\n",
       " 'a',\n",
       " 'e',\n",
       " 'w',\n",
       " 'f',\n",
       " ' ',\n",
       " 'c',\n",
       " 't',\n",
       " ' ',\n",
       " 'h',\n",
       " ' ',\n",
       " 'n',\n",
       " 'a',\n",
       " ',',\n",
       " ' ',\n",
       " 'd',\n",
       " 'k',\n",
       " '(',\n",
       " 'a',\n",
       " ' ',\n",
       " 'b',\n",
       " ' ',\n",
       " 'l',\n",
       " 'o',\n",
       " 'g',\n",
       " ' ',\n",
       " 'v',\n",
       " ' ',\n",
       " 'l',\n",
       " \"'\",\n",
       " 'r',\n",
       " 'd',\n",
       " 'a',\n",
       " 'e',\n",
       " 'o',\n",
       " 't',\n",
       " 'e',\n",
       " 'h',\n",
       " 'l',\n",
       " 'e',\n",
       " 'i',\n",
       " 'l',\n",
       " 'r',\n",
       " 'l',\n",
       " 'g',\n",
       " 'm',\n",
       " 'w',\n",
       " 'u',\n",
       " ' ',\n",
       " 'j',\n",
       " ' ',\n",
       " 'u',\n",
       " 'h',\n",
       " 'i',\n",
       " 'r',\n",
       " 'e',\n",
       " 'a',\n",
       " 'w',\n",
       " ' ',\n",
       " 'r',\n",
       " ' ',\n",
       " 'm',\n",
       " ' ',\n",
       " 'f',\n",
       " 's',\n",
       " 'i',\n",
       " ' ',\n",
       " ' ',\n",
       " 'm',\n",
       " 'y',\n",
       " ' ',\n",
       " 'a',\n",
       " 'h',\n",
       " 'E',\n",
       " 'w',\n",
       " ' ',\n",
       " ' ',\n",
       " 'g',\n",
       " 'E',\n",
       " ' ',\n",
       " 'd',\n",
       " 'E',\n",
       " 'e',\n",
       " 'l',\n",
       " 'a',\n",
       " 'E',\n",
       " ' ',\n",
       " 'o',\n",
       " 'e',\n",
       " 't',\n",
       " 'c']"
      ]
     },
     "execution_count": 28,
     "metadata": {},
     "output_type": "execute_result"
    }
   ],
   "source": [
    "[idx2letter[idx] for idx in y.argmax(axis = 1)]"
   ]
  },
  {
   "cell_type": "code",
   "execution_count": 26,
   "metadata": {},
   "outputs": [
    {
     "data": {
      "text/plain": [
       "{0: \"'\",\n",
       " 1: 'x',\n",
       " 2: 'i',\n",
       " 3: 'q',\n",
       " 4: '5',\n",
       " 5: '(',\n",
       " 6: 'E',\n",
       " 7: '\"',\n",
       " 8: 'k',\n",
       " 9: 'r',\n",
       " 10: 'v',\n",
       " 11: ' ',\n",
       " 12: '.',\n",
       " 13: 't',\n",
       " 14: 'z',\n",
       " 15: '9',\n",
       " 16: '4',\n",
       " 17: '3',\n",
       " 18: 'o',\n",
       " 19: '0',\n",
       " 20: 'j',\n",
       " 21: ')',\n",
       " 22: 'w',\n",
       " 23: 'b',\n",
       " 24: 'g',\n",
       " 25: '1',\n",
       " 26: '7',\n",
       " 27: ',',\n",
       " 28: 'd',\n",
       " 29: '8',\n",
       " 30: 'y',\n",
       " 31: 'S',\n",
       " 32: 'n',\n",
       " 33: '2',\n",
       " 34: 's',\n",
       " 35: '[',\n",
       " 36: ':',\n",
       " 37: '!',\n",
       " 38: 'l',\n",
       " 39: 'a',\n",
       " 40: 'e',\n",
       " 41: '?',\n",
       " 42: '6',\n",
       " 43: 'u',\n",
       " 44: 'h',\n",
       " 45: '-',\n",
       " 46: 'c',\n",
       " 47: 'f',\n",
       " 48: 'p',\n",
       " 49: ']',\n",
       " 50: 'm'}"
      ]
     },
     "execution_count": 26,
     "metadata": {},
     "output_type": "execute_result"
    }
   ],
   "source": [
    "idx2letter"
   ]
  },
  {
   "cell_type": "code",
   "execution_count": 27,
   "metadata": {},
   "outputs": [
    {
     "data": {
      "text/plain": [
       "{' ': 11,\n",
       " '!': 37,\n",
       " '\"': 7,\n",
       " \"'\": 0,\n",
       " '(': 5,\n",
       " ')': 21,\n",
       " ',': 27,\n",
       " '-': 45,\n",
       " '.': 12,\n",
       " '0': 19,\n",
       " '1': 25,\n",
       " '2': 33,\n",
       " '3': 17,\n",
       " '4': 16,\n",
       " '5': 4,\n",
       " '6': 42,\n",
       " '7': 26,\n",
       " '8': 29,\n",
       " '9': 15,\n",
       " ':': 36,\n",
       " '?': 41,\n",
       " 'E': 6,\n",
       " 'S': 31,\n",
       " '[': 35,\n",
       " ']': 49,\n",
       " 'a': 39,\n",
       " 'b': 23,\n",
       " 'c': 46,\n",
       " 'd': 28,\n",
       " 'e': 40,\n",
       " 'f': 47,\n",
       " 'g': 24,\n",
       " 'h': 44,\n",
       " 'i': 2,\n",
       " 'j': 20,\n",
       " 'k': 8,\n",
       " 'l': 38,\n",
       " 'm': 50,\n",
       " 'n': 32,\n",
       " 'o': 18,\n",
       " 'p': 48,\n",
       " 'q': 3,\n",
       " 'r': 9,\n",
       " 's': 34,\n",
       " 't': 13,\n",
       " 'u': 43,\n",
       " 'v': 10,\n",
       " 'w': 22,\n",
       " 'x': 1,\n",
       " 'y': 30,\n",
       " 'z': 14}"
      ]
     },
     "execution_count": 27,
     "metadata": {},
     "output_type": "execute_result"
    }
   ],
   "source": [
    "letter2idx"
   ]
  }
 ],
 "metadata": {
  "kernelspec": {
   "display_name": "Python [default]",
   "language": "python",
   "name": "python3"
  },
  "language_info": {
   "codemirror_mode": {
    "name": "ipython",
    "version": 3
   },
   "file_extension": ".py",
   "mimetype": "text/x-python",
   "name": "python",
   "nbconvert_exporter": "python",
   "pygments_lexer": "ipython3",
   "version": "3.6.0"
  }
 },
 "nbformat": 4,
 "nbformat_minor": 2
}
