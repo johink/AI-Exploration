{
 "cells": [
  {
   "cell_type": "code",
   "execution_count": 1,
   "metadata": {},
   "outputs": [
    {
     "name": "stderr",
     "output_type": "stream",
     "text": [
      "Using TensorFlow backend.\n"
     ]
    }
   ],
   "source": [
    "from keras.models import Sequential, load_model\n",
    "from keras.layers import Dense, Dropout, GRU, BatchNormalization\n",
    "from keras.callbacks import TensorBoard, ModelCheckpoint\n",
    "import pandas as pd\n",
    "import numpy as np\n",
    "import re"
   ]
  },
  {
   "cell_type": "code",
   "execution_count": 2,
   "metadata": {},
   "outputs": [
    {
     "data": {
      "text/html": [
       "<div>\n",
       "<style scoped>\n",
       "    .dataframe tbody tr th:only-of-type {\n",
       "        vertical-align: middle;\n",
       "    }\n",
       "\n",
       "    .dataframe tbody tr th {\n",
       "        vertical-align: top;\n",
       "    }\n",
       "\n",
       "    .dataframe thead th {\n",
       "        text-align: right;\n",
       "    }\n",
       "</style>\n",
       "<table border=\"1\" class=\"dataframe\">\n",
       "  <thead>\n",
       "    <tr style=\"text-align: right;\">\n",
       "      <th></th>\n",
       "      <th>artist</th>\n",
       "      <th>song</th>\n",
       "      <th>link</th>\n",
       "      <th>text</th>\n",
       "    </tr>\n",
       "  </thead>\n",
       "  <tbody>\n",
       "    <tr>\n",
       "      <th>0</th>\n",
       "      <td>ABBA</td>\n",
       "      <td>Ahe's My Kind Of Girl</td>\n",
       "      <td>/a/abba/ahes+my+kind+of+girl_20598417.html</td>\n",
       "      <td>Look at her face, it's a wonderful face  \\nAnd...</td>\n",
       "    </tr>\n",
       "    <tr>\n",
       "      <th>1</th>\n",
       "      <td>ABBA</td>\n",
       "      <td>Andante, Andante</td>\n",
       "      <td>/a/abba/andante+andante_20002708.html</td>\n",
       "      <td>Take it easy with me, please  \\nTouch me gentl...</td>\n",
       "    </tr>\n",
       "    <tr>\n",
       "      <th>2</th>\n",
       "      <td>ABBA</td>\n",
       "      <td>As Good As New</td>\n",
       "      <td>/a/abba/as+good+as+new_20003033.html</td>\n",
       "      <td>I'll never know why I had to go  \\nWhy I had t...</td>\n",
       "    </tr>\n",
       "    <tr>\n",
       "      <th>3</th>\n",
       "      <td>ABBA</td>\n",
       "      <td>Bang</td>\n",
       "      <td>/a/abba/bang_20598415.html</td>\n",
       "      <td>Making somebody happy is a question of give an...</td>\n",
       "    </tr>\n",
       "    <tr>\n",
       "      <th>4</th>\n",
       "      <td>ABBA</td>\n",
       "      <td>Bang-A-Boomerang</td>\n",
       "      <td>/a/abba/bang+a+boomerang_20002668.html</td>\n",
       "      <td>Making somebody happy is a question of give an...</td>\n",
       "    </tr>\n",
       "  </tbody>\n",
       "</table>\n",
       "</div>"
      ],
      "text/plain": [
       "  artist                   song                                        link  \\\n",
       "0   ABBA  Ahe's My Kind Of Girl  /a/abba/ahes+my+kind+of+girl_20598417.html   \n",
       "1   ABBA       Andante, Andante       /a/abba/andante+andante_20002708.html   \n",
       "2   ABBA         As Good As New        /a/abba/as+good+as+new_20003033.html   \n",
       "3   ABBA                   Bang                  /a/abba/bang_20598415.html   \n",
       "4   ABBA       Bang-A-Boomerang      /a/abba/bang+a+boomerang_20002668.html   \n",
       "\n",
       "                                                text  \n",
       "0  Look at her face, it's a wonderful face  \\nAnd...  \n",
       "1  Take it easy with me, please  \\nTouch me gentl...  \n",
       "2  I'll never know why I had to go  \\nWhy I had t...  \n",
       "3  Making somebody happy is a question of give an...  \n",
       "4  Making somebody happy is a question of give an...  "
      ]
     },
     "execution_count": 2,
     "metadata": {},
     "output_type": "execute_result"
    }
   ],
   "source": [
    "#Data retrieved from https://www.kaggle.com/mousehead/songlyrics\n",
    "song_df = pd.read_csv(\"data/songlyrics/songdata.csv\")\n",
    "song_df.head()"
   ]
  },
  {
   "cell_type": "code",
   "execution_count": 3,
   "metadata": {
    "scrolled": true
   },
   "outputs": [
    {
     "data": {
      "text/plain": [
       "\"Look at her face, it's a wonderful face  \\nAnd it means something special to me  \\nLook at the way that she smiles when she sees me  \\nHow lucky can one fellow be?  \\n  \\nShe's just my kind of girl, she makes me feel fine  \\nWho could ever believe that she could be mine?  \\nShe's just my kind of girl, without her I'm blue  \\nAnd if she ever leaves me what could I do, what could I do?  \\n  \\nAnd when we go for a walk in the park  \\nAnd she holds me and squeezes my hand  \\nWe'll go on walking for hours and talking  \\nAbout all the things that we plan  \\n  \\nShe's just my kind of girl, she makes me feel fine  \\nWho could ever believe that she could be mine?  \\nShe's just my kind of girl, without her I'm blue  \\nAnd if she ever leaves me what could I do, what could I do?\\n\\n\""
      ]
     },
     "execution_count": 3,
     "metadata": {},
     "output_type": "execute_result"
    }
   ],
   "source": [
    "song_df.at[0, \"text\"]"
   ]
  },
  {
   "cell_type": "code",
   "execution_count": 4,
   "metadata": {
    "collapsed": true
   },
   "outputs": [],
   "source": [
    "#Use the previous 64 characters to predict the 65th\n",
    "SEQ_LEN = 64"
   ]
  },
  {
   "cell_type": "code",
   "execution_count": 5,
   "metadata": {
    "collapsed": true
   },
   "outputs": [],
   "source": [
    "def clean_lyrics(lyrics):\n",
    "    lyrics = lyrics.replace(\"\\n\", \".\").lower() #Newlines generally indicate pauses\n",
    "    lyrics = re.sub(r\"\\(.*\\)\", \"\", lyrics) #Get rid of lines inside parentheses (chorus)\n",
    "    lyrics = re.sub(r\"\\[.*\\]\", \"\", lyrics) #Get rid of lines inside brackets [chorus]\n",
    "    lyrics = re.sub(r\"[\\(\\)\\[\\]]\", \"\", lyrics) #Some parentheses were unbalanced...\n",
    "    lyrics = re.sub(r\"(\\s+\\.)+\", \". \", lyrics) #Some brackets were unbalanced...\n",
    "    lyrics = re.sub(r\"([\\?\\.\\!\\;\\,])\\.+\", r\"\\1\", lyrics)  #Drop periods appearing after other punctuation\n",
    "    lyrics = re.sub(r\"\\s+\", \" \", lyrics)  #Replace 1 or more whitespace characters with a single space\n",
    "    return \" \" * (SEQ_LEN) + lyrics + \"E\" #Pad the beginning with whitespace so we can predict without feeding in lyrics"
   ]
  },
  {
   "cell_type": "code",
   "execution_count": 6,
   "metadata": {},
   "outputs": [
    {
     "data": {
      "text/plain": [
       "\"                                                                you got to learn how to fall. before you learn to fly. and mama, mama it ain't no lie. before you learn to fly. learn how to fall. you got to drift in the breeze. before you set your sails. it's an occupation where the wind prevails. before you set your sails. drift in the breeze. oh and it's the same old story. ever since the world began. everybody got the runs for glory. nobody stop and scrutinize the plan. nobody stop and scrutinize the plan. you got to learn how to fall. before you learn to fly. the tank towns they tell no lie. before you learn to fly. learn how to fall.E\""
      ]
     },
     "execution_count": 6,
     "metadata": {},
     "output_type": "execute_result"
    }
   ],
   "source": [
    "#Check out random songs to see if we should add anything to clean_lyrics\n",
    "random_index = np.random.choice(len(song_df))\n",
    "clean_lyrics(song_df.at[random_index, \"text\"])"
   ]
  },
  {
   "cell_type": "code",
   "execution_count": 7,
   "metadata": {
    "collapsed": true
   },
   "outputs": [],
   "source": [
    "#Vectorize clean_lyrics over the entire song text column\n",
    "song_df[\"clean\"] = song_df.text.apply(clean_lyrics)"
   ]
  },
  {
   "cell_type": "code",
   "execution_count": 8,
   "metadata": {},
   "outputs": [
    {
     "data": {
      "text/html": [
       "<div>\n",
       "<style scoped>\n",
       "    .dataframe tbody tr th:only-of-type {\n",
       "        vertical-align: middle;\n",
       "    }\n",
       "\n",
       "    .dataframe tbody tr th {\n",
       "        vertical-align: top;\n",
       "    }\n",
       "\n",
       "    .dataframe thead th {\n",
       "        text-align: right;\n",
       "    }\n",
       "</style>\n",
       "<table border=\"1\" class=\"dataframe\">\n",
       "  <thead>\n",
       "    <tr style=\"text-align: right;\">\n",
       "      <th></th>\n",
       "      <th>artist</th>\n",
       "      <th>song</th>\n",
       "      <th>link</th>\n",
       "      <th>text</th>\n",
       "      <th>clean</th>\n",
       "    </tr>\n",
       "  </thead>\n",
       "  <tbody>\n",
       "    <tr>\n",
       "      <th>0</th>\n",
       "      <td>ABBA</td>\n",
       "      <td>Ahe's My Kind Of Girl</td>\n",
       "      <td>/a/abba/ahes+my+kind+of+girl_20598417.html</td>\n",
       "      <td>Look at her face, it's a wonderful face  \\nAnd...</td>\n",
       "      <td>...</td>\n",
       "    </tr>\n",
       "    <tr>\n",
       "      <th>1</th>\n",
       "      <td>ABBA</td>\n",
       "      <td>Andante, Andante</td>\n",
       "      <td>/a/abba/andante+andante_20002708.html</td>\n",
       "      <td>Take it easy with me, please  \\nTouch me gentl...</td>\n",
       "      <td>...</td>\n",
       "    </tr>\n",
       "    <tr>\n",
       "      <th>2</th>\n",
       "      <td>ABBA</td>\n",
       "      <td>As Good As New</td>\n",
       "      <td>/a/abba/as+good+as+new_20003033.html</td>\n",
       "      <td>I'll never know why I had to go  \\nWhy I had t...</td>\n",
       "      <td>...</td>\n",
       "    </tr>\n",
       "    <tr>\n",
       "      <th>3</th>\n",
       "      <td>ABBA</td>\n",
       "      <td>Bang</td>\n",
       "      <td>/a/abba/bang_20598415.html</td>\n",
       "      <td>Making somebody happy is a question of give an...</td>\n",
       "      <td>...</td>\n",
       "    </tr>\n",
       "    <tr>\n",
       "      <th>4</th>\n",
       "      <td>ABBA</td>\n",
       "      <td>Bang-A-Boomerang</td>\n",
       "      <td>/a/abba/bang+a+boomerang_20002668.html</td>\n",
       "      <td>Making somebody happy is a question of give an...</td>\n",
       "      <td>...</td>\n",
       "    </tr>\n",
       "  </tbody>\n",
       "</table>\n",
       "</div>"
      ],
      "text/plain": [
       "  artist                   song                                        link  \\\n",
       "0   ABBA  Ahe's My Kind Of Girl  /a/abba/ahes+my+kind+of+girl_20598417.html   \n",
       "1   ABBA       Andante, Andante       /a/abba/andante+andante_20002708.html   \n",
       "2   ABBA         As Good As New        /a/abba/as+good+as+new_20003033.html   \n",
       "3   ABBA                   Bang                  /a/abba/bang_20598415.html   \n",
       "4   ABBA       Bang-A-Boomerang      /a/abba/bang+a+boomerang_20002668.html   \n",
       "\n",
       "                                                text  \\\n",
       "0  Look at her face, it's a wonderful face  \\nAnd...   \n",
       "1  Take it easy with me, please  \\nTouch me gentl...   \n",
       "2  I'll never know why I had to go  \\nWhy I had t...   \n",
       "3  Making somebody happy is a question of give an...   \n",
       "4  Making somebody happy is a question of give an...   \n",
       "\n",
       "                                               clean  \n",
       "0                                                ...  \n",
       "1                                                ...  \n",
       "2                                                ...  \n",
       "3                                                ...  \n",
       "4                                                ...  "
      ]
     },
     "execution_count": 8,
     "metadata": {},
     "output_type": "execute_result"
    }
   ],
   "source": [
    "song_df.head()"
   ]
  },
  {
   "cell_type": "code",
   "execution_count": 9,
   "metadata": {
    "scrolled": false
   },
   "outputs": [
    {
     "data": {
      "text/plain": [
       "\"                                                                look at her face, it's a wonderful face. and it means something special to me. look at the way that she smiles when she sees me. how lucky can one fellow be? she's just my kind of girl, she makes me feel fine. who could ever believe that she could be mine? she's just my kind of girl, without her i'm blue. and if she ever leaves me what could i do, what could i do? and when we go for a walk in the park. and she holds me and squeezes my hand. we'll go on walking for hours and talking. about all the things that we plan. she's just my kind of girl, she makes me feel fine. who could ever believe that she could be mine? she's just my kind of girl, without her i'm blue. and if she ever leaves me what could i do, what could i do?E\""
      ]
     },
     "execution_count": 9,
     "metadata": {},
     "output_type": "execute_result"
    }
   ],
   "source": [
    "data = song_df.clean.values\n",
    "data[0]"
   ]
  },
  {
   "cell_type": "code",
   "execution_count": 10,
   "metadata": {},
   "outputs": [
    {
     "data": {
      "text/plain": [
       "46"
      ]
     },
     "execution_count": 10,
     "metadata": {},
     "output_type": "execute_result"
    }
   ],
   "source": [
    "from itertools import chain\n",
    "\n",
    "#Chain takes a bunch of iterables and connects them together\n",
    "#The * unpacks an iterable so you can use it as positional arguments\n",
    "#For example:  print(*[1,2,3]) is the same as calling print(1,2,3)\n",
    "char_set = set(chain(*data))\n",
    "len(char_set) #46 characters to predict"
   ]
  },
  {
   "cell_type": "code",
   "execution_count": 11,
   "metadata": {},
   "outputs": [
    {
     "name": "stdout",
     "output_type": "stream",
     "text": [
      "[' ', '!', '\"', \"'\", ',', '-', '.', '0', '1', '2', '3', '4', '5', '6', '7', '8', '9', ':', '?', 'E', 'a', 'b', 'c', 'd', 'e', 'f', 'g', 'h', 'i', 'j', 'k', 'l', 'm', 'n', 'o', 'p', 'q', 'r', 's', 't', 'u', 'v', 'w', 'x', 'y', 'z']\n"
     ]
    }
   ],
   "source": [
    "print(sorted(char_set))"
   ]
  },
  {
   "cell_type": "code",
   "execution_count": 12,
   "metadata": {},
   "outputs": [
    {
     "data": {
      "text/plain": [
       "56358466"
      ]
     },
     "execution_count": 12,
     "metadata": {},
     "output_type": "execute_result"
    }
   ],
   "source": [
    "len(list(chain(*data))) #56 million characters in data"
   ]
  },
  {
   "cell_type": "code",
   "execution_count": 13,
   "metadata": {
    "collapsed": true
   },
   "outputs": [],
   "source": [
    "N = len(data) #Number of songs\n",
    "K = len(char_set) #Number of unique characters"
   ]
  },
  {
   "cell_type": "code",
   "execution_count": 14,
   "metadata": {
    "collapsed": true
   },
   "outputs": [],
   "source": [
    "#Mappings back and forth between character and integer index\n",
    "#It is imperative to sort the char_set, otherwise the enumeration will\n",
    "#return different indices in future sessions, which will ruin our model\n",
    "letter2idx = dict((c, i) for i, c in enumerate(sorted(char_set)))\n",
    "idx2letter = dict((i, c) for i, c in enumerate(sorted(char_set)))"
   ]
  },
  {
   "cell_type": "code",
   "execution_count": 15,
   "metadata": {
    "collapsed": true
   },
   "outputs": [],
   "source": [
    "def create_batch(data, n=128):\n",
    "    #Create a batch of n samples, each row in X representing SEQ_LEN letters from a song\n",
    "    #with each row in y representing the one-hot encoding of the next letter (or the STOP character \"S\")\n",
    "    #p_start determines the probability of starting at the beginning of the song vice a random point\n",
    "    X = np.zeros((n, SEQ_LEN, K))\n",
    "    y = np.zeros((n, K))\n",
    "    \n",
    "    for i in range(n):\n",
    "        #random.choice(N) would make sequences ending in \"E\" SEQ_LEN times as likely\n",
    "        #I still wanted them to be more common than uniform probability; here they are about 6x as likely\n",
    "        song_idx = np.random.choice(N - int(SEQ_LEN * .9))\n",
    "        song_len = len(data[song_idx])\n",
    "        \n",
    "        #We don't want to run out of song!  Clip the random choice to be within valid range\n",
    "        start_idx = min(np.random.choice(song_len), song_len - SEQ_LEN - 1)\n",
    "        \n",
    "        #Iterate over letters in the song and one-hot encode them into the array\n",
    "        for j, letter in enumerate(data[song_idx][start_idx:start_idx + SEQ_LEN]):\n",
    "            letter_idx = letter2idx[letter]\n",
    "            X[i, j, letter_idx] = 1\n",
    "        \n",
    "        #One-hot encode the next letter\n",
    "        next_letter_idx = letter2idx[data[song_idx][start_idx + SEQ_LEN]]\n",
    "        y[i, next_letter_idx] = 1\n",
    "    \n",
    "    return X, y"
   ]
  },
  {
   "cell_type": "code",
   "execution_count": 16,
   "metadata": {
    "collapsed": true
   },
   "outputs": [],
   "source": [
    "X, y = create_batch(data)"
   ]
  },
  {
   "cell_type": "code",
   "execution_count": 17,
   "metadata": {
    "collapsed": true
   },
   "outputs": [],
   "source": [
    "index_iter = iter(range(len(X)))"
   ]
  },
  {
   "cell_type": "code",
   "execution_count": 18,
   "metadata": {},
   "outputs": [
    {
     "data": {
      "text/plain": [
       "(\" but you just wouldn't listen. now pay me no mind. so i'm movin'\", ' ')"
      ]
     },
     "execution_count": 18,
     "metadata": {},
     "output_type": "execute_result"
    }
   ],
   "source": [
    "#Test to see if create_batch worked properly\n",
    "i = next(index_iter)\n",
    "\"\".join([idx2letter[idx] for idx in X[i].argmax(axis = 1)]), idx2letter[y[i].argmax()]"
   ]
  },
  {
   "cell_type": "code",
   "execution_count": 19,
   "metadata": {
    "scrolled": true
   },
   "outputs": [
    {
     "data": {
      "text/plain": [
       "0.125"
      ]
     },
     "execution_count": 19,
     "metadata": {},
     "output_type": "execute_result"
    }
   ],
   "source": [
    "#Check what proportion of the next letters are the end of the song\n",
    "np.mean(np.array([idx2letter[idx] for idx in y.argmax(axis = 1)]) == \"E\")"
   ]
  },
  {
   "cell_type": "code",
   "execution_count": 20,
   "metadata": {},
   "outputs": [
    {
     "data": {
      "text/plain": [
       "((128, 64, 46), (128, 46))"
      ]
     },
     "execution_count": 20,
     "metadata": {},
     "output_type": "execute_result"
    }
   ],
   "source": [
    "X.shape, y.shape"
   ]
  },
  {
   "cell_type": "code",
   "execution_count": 21,
   "metadata": {
    "collapsed": true
   },
   "outputs": [],
   "source": [
    "#Loading in the model I previously trained\n",
    "model = load_model(\"models/songlyrics_gru_v1.hdf5\")"
   ]
  },
  {
   "cell_type": "code",
   "execution_count": 22,
   "metadata": {
    "collapsed": true
   },
   "outputs": [],
   "source": [
    "\"\"\"\n",
    "model = Sequential()\n",
    "#return_sequences = True is required if plugging into another recurrent layer\n",
    "model.add(GRU(128, dropout = .1, recurrent_dropout = .1, input_shape = (SEQ_LEN, K), return_sequences = True))\n",
    "model.add(BatchNormalization())\n",
    "model.add(GRU(128, dropout = .2, recurrent_dropout = .2))\n",
    "model.add(BatchNormalization())\n",
    "model.add(Dense(512, activation = \"relu\"))\n",
    "model.add(BatchNormalization())\n",
    "model.add(Dropout(.3))\n",
    "model.add(Dense(256, activation = \"relu\"))\n",
    "model.add(Dropout(.5))\n",
    "model.add(Dense(K, activation = \"softmax\"))\n",
    "\"\"\";"
   ]
  },
  {
   "cell_type": "code",
   "execution_count": 23,
   "metadata": {
    "collapsed": true
   },
   "outputs": [],
   "source": [
    "#Save model weights at the end of each epoch\n",
    "#chk_callback = ModelCheckpoint(\"models/songlyrics_gru_v1.hdf5\", save_best_only = True)\n",
    "#Save logs to check out TensorBoard\n",
    "#tb_callback = TensorBoard()"
   ]
  },
  {
   "cell_type": "code",
   "execution_count": 24,
   "metadata": {
    "collapsed": true
   },
   "outputs": [],
   "source": [
    "#model.compile(\"adam\", \"categorical_crossentropy\", [\"accuracy\"])"
   ]
  },
  {
   "cell_type": "code",
   "execution_count": 25,
   "metadata": {},
   "outputs": [],
   "source": [
    "#model.train_on_batch(X, y)"
   ]
  },
  {
   "cell_type": "code",
   "execution_count": 26,
   "metadata": {
    "collapsed": true
   },
   "outputs": [],
   "source": [
    "#X, y = create_batch(data, n = 100000)"
   ]
  },
  {
   "cell_type": "code",
   "execution_count": 27,
   "metadata": {
    "collapsed": true
   },
   "outputs": [],
   "source": [
    "#model.fit(X, y, batch_size = 128, epochs = 20, callbacks = [chk_callback, tb_callback])"
   ]
  },
  {
   "cell_type": "code",
   "execution_count": 28,
   "metadata": {
    "collapsed": true
   },
   "outputs": [],
   "source": [
    "def make_song(model, start = \" \" * SEQ_LEN):\n",
    "    #model (fitted Keras model) \n",
    "    #start (str) : \n",
    "    #  Beginning of the song to continue filling in with predictions\n",
    "    \n",
    "    #Pad with whitespace regardless of what comes in, send to lower case\n",
    "    #make_song will break if user inputs something not in the alphabet\n",
    "    start = list((\" \" * SEQ_LEN + start).lower())\n",
    "    \n",
    "    #Get the index number for the final SEQ_LEN letters\n",
    "    X_digits = [letter2idx[letter] for letter in start[-SEQ_LEN:]]\n",
    "    X = []\n",
    "    \n",
    "    for digit in X_digits:\n",
    "        #Create a one-hot encoding for each letter\n",
    "        row = np.zeros(K)\n",
    "        row[digit] = 1\n",
    "        X.append(row)\n",
    "\n",
    "    #While we haven't predicted the end character\n",
    "    while start[-1] != \"E\":\n",
    "        #predict the next character, grabbing the last SEQ_LEN rows from X\n",
    "        #prediction returns an array of just one element, so we index to retrieve it\n",
    "        pred = model.predict(np.array(X[-SEQ_LEN:]).reshape((1, SEQ_LEN, K)))[0]\n",
    "        \n",
    "        #Force it to make songs of a decent length by setting P(\"E\") = 0 and normalizing\n",
    "        if len(start) < 300:\n",
    "            pred[letter2idx[\"E\"]] = 0\n",
    "            pred = pred / pred.sum()\n",
    "            \n",
    "        #Also returns an array\n",
    "        prediction = np.random.choice(K, 1, p = pred)[0]\n",
    "        row = np.zeros(K)\n",
    "        row[prediction] = 1\n",
    "        X.append(row)\n",
    "        start.append(idx2letter[prediction])\n",
    "    \n",
    "    #Return the letters, strip out the whitespace padding and drop the \"E\" character\n",
    "    #Possible TODO: Enforce proper capitalization on the resulting song\n",
    "    return \"\".join(start).strip()[:-1]"
   ]
  },
  {
   "cell_type": "code",
   "execution_count": 29,
   "metadata": {},
   "outputs": [
    {
     "name": "stdout",
     "output_type": "stream",
     "text": [
      "Iteration 0, [1.2992927, 0.625]\n",
      "every mother was a sweet it be bromone jost squin us. i've watch to have joze at the shoves. and i cause the damn, to take out. just love me when you really blied choose on me out for the keymorig highy and sun.\n"
     ]
    }
   ],
   "source": [
    "#Left this running for a while and periodically checked the songs it was making\n",
    "#I believe there's lots of room left for training, but it's so slow and I'm moving on!\n",
    "for i in range(1):\n",
    "    stats = model.train_on_batch(*create_batch(data))\n",
    "    if i % 100 == 0:\n",
    "        print(\"Iteration {}, {}\".format(i, stats))\n",
    "        print(make_song(model))\n",
    "        model.save(\"models/songlyrics_gru_v2.hdf5\")"
   ]
  },
  {
   "cell_type": "code",
   "execution_count": 32,
   "metadata": {},
   "outputs": [
    {
     "name": "stdout",
     "output_type": "stream",
     "text": [
      "Last night my kisses were banked in black hair  \n",
      "And in my bed, my lover, her hair was midnight black  \n",
      "And all her mystery dwelled within her black hair  \n",
      "And her black hair framed a happy he\n",
      "\n",
      "last night my kisses were banked in black hair. and in my bed, my houndy famich? they make you, there this pappecky, me. who's not over too and wraved. clefived unything a smuch to gore. find me.\n"
     ]
    }
   ],
   "source": [
    "#Some starting lyrics:\n",
    "song_index = np.random.choice(len(song_df))\n",
    "print(song_df.text[song_index][:SEQ_LEN*3])\n",
    "print()\n",
    "\n",
    "#Grab up to SEQ_LEN*2 because the first SEQ_LEN chars are whitespace\n",
    "print(make_song(model, start = song_df.clean[song_index][:SEQ_LEN*2]))"
   ]
  },
  {
   "cell_type": "code",
   "execution_count": 33,
   "metadata": {},
   "outputs": [
    {
     "name": "stdout",
     "output_type": "stream",
     "text": [
      "Now if you wanna hear some boogie like I'm gonna play  \n",
      "It's just an old piano and a knockout bass  \n",
      "The drummer man's a cat they call Kickin' McCoy  \n",
      "You know, remember that rubber-legged boy\n",
      "\n",
      "now if you wanna hear some boogie like i'm gonna play. it's just die. your eyes. close they town to go to say. oh oh oh the lag his thing it's easy us, old by, kill to look away.\n"
     ]
    }
   ],
   "source": [
    "song_index = np.random.choice(len(song_df))\n",
    "print(song_df.text[song_index][:SEQ_LEN*3])\n",
    "print()\n",
    "\n",
    "print(make_song(model, start = song_df.clean[song_index][:SEQ_LEN*2]))"
   ]
  },
  {
   "cell_type": "code",
   "execution_count": null,
   "metadata": {
    "collapsed": true
   },
   "outputs": [],
   "source": [
    "#As we can see, it really comes up with some random stuff sometimes\n",
    "#The model could use more work (additional training, more expressive),\n",
    "#but I'd be curious to see how it'd perform given just one genre of music"
   ]
  }
 ],
 "metadata": {
  "kernelspec": {
   "display_name": "Python [default]",
   "language": "python",
   "name": "python3"
  },
  "language_info": {
   "codemirror_mode": {
    "name": "ipython",
    "version": 3
   },
   "file_extension": ".py",
   "mimetype": "text/x-python",
   "name": "python",
   "nbconvert_exporter": "python",
   "pygments_lexer": "ipython3",
   "version": "3.6.0"
  }
 },
 "nbformat": 4,
 "nbformat_minor": 2
}
