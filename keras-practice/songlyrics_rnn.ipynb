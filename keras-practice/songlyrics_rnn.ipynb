{
 "cells": [
  {
   "cell_type": "code",
   "execution_count": 155,
   "metadata": {},
   "outputs": [],
   "source": [
    "from keras.models import Sequential\n",
    "from keras.layers import Dense, Dropout, GRU\n",
    "from keras.callbacks import TensorBoard, ModelCheckpoint\n",
    "import pandas as pd\n",
    "import numpy as np"
   ]
  },
  {
   "cell_type": "code",
   "execution_count": 3,
   "metadata": {},
   "outputs": [
    {
     "data": {
      "text/html": [
       "<div>\n",
       "<style scoped>\n",
       "    .dataframe tbody tr th:only-of-type {\n",
       "        vertical-align: middle;\n",
       "    }\n",
       "\n",
       "    .dataframe tbody tr th {\n",
       "        vertical-align: top;\n",
       "    }\n",
       "\n",
       "    .dataframe thead th {\n",
       "        text-align: right;\n",
       "    }\n",
       "</style>\n",
       "<table border=\"1\" class=\"dataframe\">\n",
       "  <thead>\n",
       "    <tr style=\"text-align: right;\">\n",
       "      <th></th>\n",
       "      <th>artist</th>\n",
       "      <th>song</th>\n",
       "      <th>link</th>\n",
       "      <th>text</th>\n",
       "    </tr>\n",
       "  </thead>\n",
       "  <tbody>\n",
       "    <tr>\n",
       "      <th>0</th>\n",
       "      <td>ABBA</td>\n",
       "      <td>Ahe's My Kind Of Girl</td>\n",
       "      <td>/a/abba/ahes+my+kind+of+girl_20598417.html</td>\n",
       "      <td>Look at her face, it's a wonderful face  \\nAnd...</td>\n",
       "    </tr>\n",
       "    <tr>\n",
       "      <th>1</th>\n",
       "      <td>ABBA</td>\n",
       "      <td>Andante, Andante</td>\n",
       "      <td>/a/abba/andante+andante_20002708.html</td>\n",
       "      <td>Take it easy with me, please  \\nTouch me gentl...</td>\n",
       "    </tr>\n",
       "    <tr>\n",
       "      <th>2</th>\n",
       "      <td>ABBA</td>\n",
       "      <td>As Good As New</td>\n",
       "      <td>/a/abba/as+good+as+new_20003033.html</td>\n",
       "      <td>I'll never know why I had to go  \\nWhy I had t...</td>\n",
       "    </tr>\n",
       "    <tr>\n",
       "      <th>3</th>\n",
       "      <td>ABBA</td>\n",
       "      <td>Bang</td>\n",
       "      <td>/a/abba/bang_20598415.html</td>\n",
       "      <td>Making somebody happy is a question of give an...</td>\n",
       "    </tr>\n",
       "    <tr>\n",
       "      <th>4</th>\n",
       "      <td>ABBA</td>\n",
       "      <td>Bang-A-Boomerang</td>\n",
       "      <td>/a/abba/bang+a+boomerang_20002668.html</td>\n",
       "      <td>Making somebody happy is a question of give an...</td>\n",
       "    </tr>\n",
       "  </tbody>\n",
       "</table>\n",
       "</div>"
      ],
      "text/plain": [
       "  artist                   song                                        link  \\\n",
       "0   ABBA  Ahe's My Kind Of Girl  /a/abba/ahes+my+kind+of+girl_20598417.html   \n",
       "1   ABBA       Andante, Andante       /a/abba/andante+andante_20002708.html   \n",
       "2   ABBA         As Good As New        /a/abba/as+good+as+new_20003033.html   \n",
       "3   ABBA                   Bang                  /a/abba/bang_20598415.html   \n",
       "4   ABBA       Bang-A-Boomerang      /a/abba/bang+a+boomerang_20002668.html   \n",
       "\n",
       "                                                text  \n",
       "0  Look at her face, it's a wonderful face  \\nAnd...  \n",
       "1  Take it easy with me, please  \\nTouch me gentl...  \n",
       "2  I'll never know why I had to go  \\nWhy I had t...  \n",
       "3  Making somebody happy is a question of give an...  \n",
       "4  Making somebody happy is a question of give an...  "
      ]
     },
     "execution_count": 3,
     "metadata": {},
     "output_type": "execute_result"
    }
   ],
   "source": [
    "#Data retrieved from https://www.kaggle.com/mousehead/songlyrics\n",
    "song_df = pd.read_csv(\"data/songlyrics/songdata.csv\")\n",
    "song_df.head()"
   ]
  },
  {
   "cell_type": "code",
   "execution_count": 4,
   "metadata": {
    "scrolled": true
   },
   "outputs": [
    {
     "data": {
      "text/plain": [
       "\"Look at her face, it's a wonderful face  \\nAnd it means something special to me  \\nLook at the way that she smiles when she sees me  \\nHow lucky can one fellow be?  \\n  \\nShe's just my kind of girl, she makes me feel fine  \\nWho could ever believe that she could be mine?  \\nShe's just my kind of girl, without her I'm blue  \\nAnd if she ever leaves me what could I do, what could I do?  \\n  \\nAnd when we go for a walk in the park  \\nAnd she holds me and squeezes my hand  \\nWe'll go on walking for hours and talking  \\nAbout all the things that we plan  \\n  \\nShe's just my kind of girl, she makes me feel fine  \\nWho could ever believe that she could be mine?  \\nShe's just my kind of girl, without her I'm blue  \\nAnd if she ever leaves me what could I do, what could I do?\\n\\n\""
      ]
     },
     "execution_count": 4,
     "metadata": {},
     "output_type": "execute_result"
    }
   ],
   "source": [
    "song_df.at[0, \"text\"]"
   ]
  },
  {
   "cell_type": "code",
   "execution_count": 7,
   "metadata": {
    "collapsed": true
   },
   "outputs": [],
   "source": [
    "#Use the previous 64 characters to predict the 65th\n",
    "SEQ_LEN = 64"
   ]
  },
  {
   "cell_type": "code",
   "execution_count": 8,
   "metadata": {
    "collapsed": true
   },
   "outputs": [],
   "source": [
    "#Changed my mind - went with character-wise prediction\n",
    "#Kept this in case I want to try to predict words later\n",
    "import re\n",
    "punct = list(\".,?!\")\n",
    "\n",
    "def clean_lyrics(lyrics):\n",
    "    for p in punct:\n",
    "        lyrics = lyrics.replace(p, \" {} \".format(p))\n",
    "    for p in [\"(\",\")\"]:\n",
    "        lyrics = lyrics.replace(p, \"\")\n",
    "    lyrics = re.sub(\"\\s+\", \" \", lyrics)\n",
    "    return np.array([\"START\"] + lyrics.lower().split() + [\"END\"])"
   ]
  },
  {
   "cell_type": "code",
   "execution_count": 100,
   "metadata": {
    "collapsed": true
   },
   "outputs": [],
   "source": [
    "def clean_lyrics(lyrics):\n",
    "    lyrics = lyrics.replace(\"\\n\", \".\").lower() #Newlines generally indicate pauses\n",
    "    lyrics = re.sub(r\"\\(.*\\)\", \"\", lyrics) #Get rid of lines inside parentheses (chorus)\n",
    "    lyrics = re.sub(r\"\\[.*\\]\", \"\", lyrics) #Get rid of lines inside brackets [chorus]\n",
    "    lyrics = re.sub(r\"[\\(\\)\\[\\]]\", \"\", lyrics) #Some parentheses were unbalanced...\n",
    "    lyrics = re.sub(r\"(\\s+\\.)+\", \". \", lyrics) #Some brackets were unbalanced...\n",
    "    lyrics = re.sub(r\"([\\?\\.\\!\\;\\,])\\.+\", r\"\\1\", lyrics)  #Drop periods appearing after other punctuation\n",
    "    lyrics = re.sub(r\"\\s+\", \" \", lyrics)  #Replace 1 or more whitespace characters with a single space\n",
    "    return \" \" * (SEQ_LEN - 1) + lyrics + \"E\" #Pad the beginning with whitespace so we can predict from the first character"
   ]
  },
  {
   "cell_type": "code",
   "execution_count": 191,
   "metadata": {},
   "outputs": [
    {
     "data": {
      "text/plain": [
       "\"                                                               some would say there is trouble in my home. even when i am alone. some would say there is always someone home. even though i might be gone. speak to me my friend, i know you're there. speak to me my friend speak to me speak to me! i can always feel it's there, creeping one step behind me. cold hands in the night, i know that it's watching me. the poltergeist living in my home. could be a friend or foe. the poltergeist living in my home. could be a friend for life, or a foe until the night i die. speak to me my friend, let me hear your tongue. speak to me my friend speak to me speak to me! speak to me my friend, i know you're there. speak to me my friend speak to me speak to me! my guests can never tell when it's creeping up to touch them. they will never ever know our game. until they feel it and scream. the poltergeist living in my home. could be a friend or foe. the poltergeist living in my home. could be a friend for life, or a foe until the night i die. speak to me my friend, we are one and the same. now that you're living here welcome home. welcome home. you can stay forever.E\""
      ]
     },
     "execution_count": 191,
     "metadata": {},
     "output_type": "execute_result"
    }
   ],
   "source": [
    "#Check out random songs to see if we should add anything to clean_lyrics\n",
    "random_index = np.random.choice(len(song_df))\n",
    "clean_lyrics(song_df.at[random_index, \"text\"])"
   ]
  },
  {
   "cell_type": "code",
   "execution_count": 101,
   "metadata": {
    "collapsed": true
   },
   "outputs": [],
   "source": [
    "#Vectorize clean_lyrics over the entire song text column\n",
    "song_df[\"clean\"] = song_df.text.apply(clean_lyrics)"
   ]
  },
  {
   "cell_type": "code",
   "execution_count": 105,
   "metadata": {},
   "outputs": [
    {
     "data": {
      "text/html": [
       "<div>\n",
       "<style scoped>\n",
       "    .dataframe tbody tr th:only-of-type {\n",
       "        vertical-align: middle;\n",
       "    }\n",
       "\n",
       "    .dataframe tbody tr th {\n",
       "        vertical-align: top;\n",
       "    }\n",
       "\n",
       "    .dataframe thead th {\n",
       "        text-align: right;\n",
       "    }\n",
       "</style>\n",
       "<table border=\"1\" class=\"dataframe\">\n",
       "  <thead>\n",
       "    <tr style=\"text-align: right;\">\n",
       "      <th></th>\n",
       "      <th>artist</th>\n",
       "      <th>song</th>\n",
       "      <th>link</th>\n",
       "      <th>text</th>\n",
       "      <th>clean</th>\n",
       "    </tr>\n",
       "  </thead>\n",
       "  <tbody>\n",
       "    <tr>\n",
       "      <th>0</th>\n",
       "      <td>ABBA</td>\n",
       "      <td>Ahe's My Kind Of Girl</td>\n",
       "      <td>/a/abba/ahes+my+kind+of+girl_20598417.html</td>\n",
       "      <td>Look at her face, it's a wonderful face  \\nAnd...</td>\n",
       "      <td>...</td>\n",
       "    </tr>\n",
       "    <tr>\n",
       "      <th>1</th>\n",
       "      <td>ABBA</td>\n",
       "      <td>Andante, Andante</td>\n",
       "      <td>/a/abba/andante+andante_20002708.html</td>\n",
       "      <td>Take it easy with me, please  \\nTouch me gentl...</td>\n",
       "      <td>...</td>\n",
       "    </tr>\n",
       "    <tr>\n",
       "      <th>2</th>\n",
       "      <td>ABBA</td>\n",
       "      <td>As Good As New</td>\n",
       "      <td>/a/abba/as+good+as+new_20003033.html</td>\n",
       "      <td>I'll never know why I had to go  \\nWhy I had t...</td>\n",
       "      <td>...</td>\n",
       "    </tr>\n",
       "    <tr>\n",
       "      <th>3</th>\n",
       "      <td>ABBA</td>\n",
       "      <td>Bang</td>\n",
       "      <td>/a/abba/bang_20598415.html</td>\n",
       "      <td>Making somebody happy is a question of give an...</td>\n",
       "      <td>...</td>\n",
       "    </tr>\n",
       "    <tr>\n",
       "      <th>4</th>\n",
       "      <td>ABBA</td>\n",
       "      <td>Bang-A-Boomerang</td>\n",
       "      <td>/a/abba/bang+a+boomerang_20002668.html</td>\n",
       "      <td>Making somebody happy is a question of give an...</td>\n",
       "      <td>...</td>\n",
       "    </tr>\n",
       "  </tbody>\n",
       "</table>\n",
       "</div>"
      ],
      "text/plain": [
       "  artist                   song                                        link  \\\n",
       "0   ABBA  Ahe's My Kind Of Girl  /a/abba/ahes+my+kind+of+girl_20598417.html   \n",
       "1   ABBA       Andante, Andante       /a/abba/andante+andante_20002708.html   \n",
       "2   ABBA         As Good As New        /a/abba/as+good+as+new_20003033.html   \n",
       "3   ABBA                   Bang                  /a/abba/bang_20598415.html   \n",
       "4   ABBA       Bang-A-Boomerang      /a/abba/bang+a+boomerang_20002668.html   \n",
       "\n",
       "                                                text  \\\n",
       "0  Look at her face, it's a wonderful face  \\nAnd...   \n",
       "1  Take it easy with me, please  \\nTouch me gentl...   \n",
       "2  I'll never know why I had to go  \\nWhy I had t...   \n",
       "3  Making somebody happy is a question of give an...   \n",
       "4  Making somebody happy is a question of give an...   \n",
       "\n",
       "                                               clean  \n",
       "0                                                ...  \n",
       "1                                                ...  \n",
       "2                                                ...  \n",
       "3                                                ...  \n",
       "4                                                ...  "
      ]
     },
     "execution_count": 105,
     "metadata": {},
     "output_type": "execute_result"
    }
   ],
   "source": [
    "song_df.head()"
   ]
  },
  {
   "cell_type": "code",
   "execution_count": 106,
   "metadata": {
    "scrolled": false
   },
   "outputs": [
    {
     "data": {
      "text/plain": [
       "\"                                                               look at her face, it's a wonderful face. and it means something special to me. look at the way that she smiles when she sees me. how lucky can one fellow be? she's just my kind of girl, she makes me feel fine. who could ever believe that she could be mine? she's just my kind of girl, without her i'm blue. and if she ever leaves me what could i do, what could i do? and when we go for a walk in the park. and she holds me and squeezes my hand. we'll go on walking for hours and talking. about all the things that we plan. she's just my kind of girl, she makes me feel fine. who could ever believe that she could be mine? she's just my kind of girl, without her i'm blue. and if she ever leaves me what could i do, what could i do?E\""
      ]
     },
     "execution_count": 106,
     "metadata": {},
     "output_type": "execute_result"
    }
   ],
   "source": [
    "data = song_df.clean.values\n",
    "data[0]"
   ]
  },
  {
   "cell_type": "code",
   "execution_count": 107,
   "metadata": {},
   "outputs": [
    {
     "data": {
      "text/plain": [
       "46"
      ]
     },
     "execution_count": 107,
     "metadata": {},
     "output_type": "execute_result"
    }
   ],
   "source": [
    "from itertools import chain\n",
    "\n",
    "#Chain takes a bunch of iterables and connects them together\n",
    "#The * unpacks an iterable so you can use it as positional arguments\n",
    "#For example:  print(*[1,2,3]) is the same as calling print(1,2,3)\n",
    "word_set = set(chain(*data))\n",
    "len(word_set) #46 characters to predict"
   ]
  },
  {
   "cell_type": "code",
   "execution_count": 108,
   "metadata": {},
   "outputs": [
    {
     "name": "stdout",
     "output_type": "stream",
     "text": [
      "[' ', '!', '\"', \"'\", ',', '-', '.', '0', '1', '2', '3', '4', '5', '6', '7', '8', '9', ':', '?', 'E', 'a', 'b', 'c', 'd', 'e', 'f', 'g', 'h', 'i', 'j', 'k', 'l', 'm', 'n', 'o', 'p', 'q', 'r', 's', 't', 'u', 'v', 'w', 'x', 'y', 'z']\n"
     ]
    }
   ],
   "source": [
    "print(sorted(word_set))"
   ]
  },
  {
   "cell_type": "code",
   "execution_count": 109,
   "metadata": {},
   "outputs": [
    {
     "data": {
      "text/plain": [
       "56300816"
      ]
     },
     "execution_count": 109,
     "metadata": {},
     "output_type": "execute_result"
    }
   ],
   "source": [
    "len(list(chain(*data))) #56 million characters in data"
   ]
  },
  {
   "cell_type": "code",
   "execution_count": 110,
   "metadata": {
    "collapsed": true
   },
   "outputs": [],
   "source": [
    "N = len(data) #Number of songs\n",
    "K = len(word_set) #Number of unique characters"
   ]
  },
  {
   "cell_type": "code",
   "execution_count": 111,
   "metadata": {
    "collapsed": true
   },
   "outputs": [],
   "source": [
    "#Mappings back and forth between character and integer index\n",
    "letter2idx = dict((c, i) for i, c in enumerate(word_set))\n",
    "idx2letter = dict((i, c) for i, c in enumerate(word_set))"
   ]
  },
  {
   "cell_type": "code",
   "execution_count": 112,
   "metadata": {
    "collapsed": true
   },
   "outputs": [],
   "source": [
    "def create_batch(data, n=128):\n",
    "    #Create a batch of n samples, each row in X representing SEQ_LEN letters from a song\n",
    "    #with each row in y representing the one-hot encoding of the next letter (or the STOP character \"S\")\n",
    "    #p_start determines the probability of starting at the beginning of the song vice a random point\n",
    "    X = np.zeros((n, SEQ_LEN, K))\n",
    "    y = np.zeros((n, K))\n",
    "    \n",
    "    for i in range(n):\n",
    "        #random.choice(N) would make sequences ending in \"E\" SEQ_LEN times as likely\n",
    "        #I still wanted them to be more common than uniform probability; here they are about 6x as likely\n",
    "        song_idx = np.random.choice(N - int(SEQ_LEN * .9))\n",
    "        song_len = len(data[song_idx])\n",
    "        \n",
    "        #We don't want to run out of song!  Clip the random choice to be within valid range\n",
    "        start_idx = min(np.random.choice(song_len), song_len - SEQ_LEN - 1)\n",
    "        \n",
    "        #Iterate over letters in the song and one-hot encode them into the array\n",
    "        for j, letter in enumerate(data[song_idx][start_idx:start_idx + SEQ_LEN]):\n",
    "            letter_idx = letter2idx[letter]\n",
    "            X[i, j, letter_idx] = 1\n",
    "        \n",
    "        #One-hot encode the next letter\n",
    "        next_letter_idx = letter2idx[data[song_idx][start_idx + SEQ_LEN]]\n",
    "        y[i, next_letter_idx] = 1\n",
    "    \n",
    "    return X, y"
   ]
  },
  {
   "cell_type": "code",
   "execution_count": 113,
   "metadata": {
    "collapsed": true
   },
   "outputs": [],
   "source": [
    "X, y = create_batch(data)"
   ]
  },
  {
   "cell_type": "code",
   "execution_count": 114,
   "metadata": {
    "collapsed": true
   },
   "outputs": [],
   "source": [
    "blah = iter(range(len(X)))"
   ]
  },
  {
   "cell_type": "code",
   "execution_count": 151,
   "metadata": {},
   "outputs": [
    {
     "data": {
      "text/plain": [
       "('pain is a deadly reality. a sociopath with empty eyes. and no so', 'u')"
      ]
     },
     "execution_count": 151,
     "metadata": {},
     "output_type": "execute_result"
    }
   ],
   "source": [
    "#Test to see if create_batch worked properly\n",
    "i = next(blah)\n",
    "\"\".join([idx2letter[idx] for idx in X[i].argmax(axis = 1)]), idx2letter[y[i].argmax()]"
   ]
  },
  {
   "cell_type": "code",
   "execution_count": 153,
   "metadata": {
    "scrolled": true
   },
   "outputs": [
    {
     "data": {
      "text/plain": [
       "0.0703125"
      ]
     },
     "execution_count": 153,
     "metadata": {},
     "output_type": "execute_result"
    }
   ],
   "source": [
    "#Check what proportion of the next letters are the end of the song\n",
    "np.mean(np.array([idx2letter[idx] for idx in y.argmax(axis = 1)]) == \"E\")"
   ]
  },
  {
   "cell_type": "code",
   "execution_count": 156,
   "metadata": {},
   "outputs": [
    {
     "data": {
      "text/plain": [
       "((128, 64, 46), (128, 46))"
      ]
     },
     "execution_count": 156,
     "metadata": {},
     "output_type": "execute_result"
    }
   ],
   "source": [
    "X.shape, y.shape"
   ]
  },
  {
   "cell_type": "code",
   "execution_count": 160,
   "metadata": {},
   "outputs": [],
   "source": [
    "model = Sequential()\n",
    "#return_sequences = True is required if plugging into another recurrent layer\n",
    "model.add(GRU(128, dropout = .2, recurrent_dropout = .2, input_shape = (SEQ_LEN, K), return_sequences = True))\n",
    "model.add(GRU(128, dropout = .2, recurrent_dropout = .2))\n",
    "model.add(Dense(256, activation = \"relu\"))\n",
    "model.add(Dropout(.5))\n",
    "model.add(Dense(K, activation = \"softmax\"))"
   ]
  },
  {
   "cell_type": "code",
   "execution_count": 161,
   "metadata": {
    "collapsed": true
   },
   "outputs": [],
   "source": [
    "#Save model weights at the end of each epoch\n",
    "chk_callback = ModelCheckpoint(\"tmp/weights.rnn_char.hdf5\", save_best_only = True)\n",
    "#Save logs to check out TensorBoard\n",
    "tb_callback = TensorBoard()"
   ]
  },
  {
   "cell_type": "code",
   "execution_count": 162,
   "metadata": {
    "collapsed": true
   },
   "outputs": [],
   "source": [
    "model.compile(\"adam\", \"categorical_crossentropy\", [\"accuracy\"])"
   ]
  },
  {
   "cell_type": "code",
   "execution_count": 163,
   "metadata": {},
   "outputs": [
    {
     "data": {
      "text/plain": [
       "[3.8310561, 0.0078125]"
      ]
     },
     "execution_count": 163,
     "metadata": {},
     "output_type": "execute_result"
    }
   ],
   "source": [
    "model.train_on_batch(X, y)"
   ]
  },
  {
   "cell_type": "code",
   "execution_count": 165,
   "metadata": {
    "collapsed": true
   },
   "outputs": [],
   "source": [
    "X, y = create_batch(data, n = 100000)"
   ]
  },
  {
   "cell_type": "code",
   "execution_count": 166,
   "metadata": {},
   "outputs": [
    {
     "name": "stdout",
     "output_type": "stream",
     "text": [
      "Epoch 1/20\n",
      "100000/100000 [==============================] - 305s - loss: 2.3943 - acc: 0.3154   \n",
      "Epoch 2/20\n"
     ]
    },
    {
     "name": "stderr",
     "output_type": "stream",
     "text": [
      "C:\\Users\\John\\Anaconda3\\lib\\site-packages\\keras\\callbacks.py:405: RuntimeWarning: Can save best model only with val_loss available, skipping.\n",
      "  'skipping.' % (self.monitor), RuntimeWarning)\n"
     ]
    },
    {
     "name": "stdout",
     "output_type": "stream",
     "text": [
      "100000/100000 [==============================] - 316s - loss: 2.0353 - acc: 0.3914   \n",
      "Epoch 3/20\n",
      "100000/100000 [==============================] - 319s - loss: 1.9210 - acc: 0.4228   \n",
      "Epoch 4/20\n",
      "100000/100000 [==============================] - 318s - loss: 1.8548 - acc: 0.4365   \n",
      "Epoch 5/20\n",
      "100000/100000 [==============================] - 317s - loss: 1.8086 - acc: 0.4487   \n",
      "Epoch 6/20\n",
      "100000/100000 [==============================] - 314s - loss: 1.7676 - acc: 0.4608   \n",
      "Epoch 7/20\n",
      "100000/100000 [==============================] - 311s - loss: 1.7366 - acc: 0.4657   \n",
      "Epoch 8/20\n",
      "100000/100000 [==============================] - 309s - loss: 1.7113 - acc: 0.4727   \n",
      "Epoch 9/20\n",
      "100000/100000 [==============================] - 309s - loss: 1.6934 - acc: 0.4766   \n",
      "Epoch 10/20\n",
      "100000/100000 [==============================] - 312s - loss: 1.6740 - acc: 0.4816   \n",
      "Epoch 11/20\n",
      "100000/100000 [==============================] - 312s - loss: 1.6580 - acc: 0.4860   \n",
      "Epoch 12/20\n",
      "100000/100000 [==============================] - 317s - loss: 1.6420 - acc: 0.4890   \n",
      "Epoch 13/20\n",
      "100000/100000 [==============================] - 398s - loss: 1.6305 - acc: 0.4914   \n",
      "Epoch 14/20\n",
      "100000/100000 [==============================] - 408s - loss: 1.6245 - acc: 0.4927   \n",
      "Epoch 15/20\n",
      "100000/100000 [==============================] - 346s - loss: 1.6133 - acc: 0.4953   \n",
      "Epoch 16/20\n",
      "100000/100000 [==============================] - 328s - loss: 1.6062 - acc: 0.4969   \n",
      "Epoch 17/20\n",
      "100000/100000 [==============================] - 325s - loss: 1.5956 - acc: 0.5002   \n",
      "Epoch 18/20\n",
      "100000/100000 [==============================] - 324s - loss: 1.5878 - acc: 0.5011   \n",
      "Epoch 19/20\n",
      "100000/100000 [==============================] - 326s - loss: 1.5809 - acc: 0.5039   \n",
      "Epoch 20/20\n",
      "100000/100000 [==============================] - 323s - loss: 1.5801 - acc: 0.5027   \n"
     ]
    },
    {
     "data": {
      "text/plain": [
       "<keras.callbacks.History at 0x2d60761a748>"
      ]
     },
     "execution_count": 166,
     "metadata": {},
     "output_type": "execute_result"
    }
   ],
   "source": [
    "model.fit(X, y, batch_size = 128, epochs = 20, callbacks = [chk_callback, tb_callback])"
   ]
  },
  {
   "cell_type": "code",
   "execution_count": 210,
   "metadata": {
    "collapsed": true
   },
   "outputs": [],
   "source": [
    "def make_song(model, start = \" \" * SEQ_LEN, temperature = 0):\n",
    "    start = list((\" \" * SEQ_LEN + start)[-SEQ_LEN:].lower())\n",
    "    \n",
    "    X_digits = [letter2idx[letter] for letter in start]\n",
    "    X = []\n",
    "    \n",
    "    for digit in X_digits:\n",
    "        row = np.zeros(K)\n",
    "        row[digit] = 1\n",
    "        X.append(row)\n",
    "\n",
    "    \n",
    "    while start[-1] != \"E\":\n",
    "        pred = model.predict(np.array(X[-SEQ_LEN:]).reshape((1, SEQ_LEN, K)))[0]\n",
    "        prediction = np.random.choice(K, 1, p = pred)[0]\n",
    "        row = np.zeros(K)\n",
    "        row[prediction] = 1\n",
    "        X.append(row)\n",
    "        start.append(idx2letter[prediction])\n",
    "    \n",
    "    return \"\".join(start).strip()[:-1]"
   ]
  },
  {
   "cell_type": "code",
   "execution_count": 228,
   "metadata": {},
   "outputs": [
    {
     "data": {
      "text/plain": [
       "\"she sings and she dances and her smile lights up the sky a. let down my lie. where now come speach in alreat chysise, i can't let again.\""
      ]
     },
     "execution_count": 228,
     "metadata": {},
     "output_type": "execute_result"
    }
   ],
   "source": [
    "make_song(model, \"she sings and she dances and her smile lights up the sky\")"
   ]
  },
  {
   "cell_type": "code",
   "execution_count": null,
   "metadata": {},
   "outputs": [
    {
     "name": "stdout",
     "output_type": "stream",
     "text": [
      "Iteration 0, [1.6264844, 0.5]\n",
      "Iteration 50, [1.7018552, 0.578125]\n",
      "Iteration 100, [1.7121595, 0.5078125]\n",
      "Iteration 150, [1.6743716, 0.453125]\n",
      "Iteration 200, [1.4224437, 0.4765625]\n",
      "Iteration 250, [1.5754218, 0.53125]\n",
      "Iteration 300, [1.8307935, 0.4453125]\n",
      "Iteration 350, [1.5503139, 0.5234375]\n",
      "Iteration 400, [1.6237633, 0.4765625]\n",
      "Iteration 450, [1.6109223, 0.5078125]\n",
      "Iteration 500, [1.7225275, 0.515625]\n",
      "Iteration 550, [1.6731038, 0.421875]\n",
      "Iteration 600, [1.6072071, 0.515625]\n",
      "Iteration 650, [1.5234128, 0.484375]\n",
      "Iteration 700, [1.4317018, 0.5546875]\n",
      "Iteration 750, [1.8100257, 0.5234375]\n",
      "Iteration 800, [1.6361152, 0.5]\n",
      "Iteration 850, [1.3789246, 0.5859375]\n",
      "Iteration 900, [1.646139, 0.515625]\n",
      "Iteration 950, [1.6457453, 0.453125]\n",
      "Iteration 1000, [1.7499382, 0.4140625]\n",
      "Iteration 1050, [1.9065955, 0.421875]\n",
      "Iteration 1100, [1.7424059, 0.4296875]\n",
      "Iteration 1150, [1.6513617, 0.5234375]\n",
      "Iteration 1200, [1.6009815, 0.515625]\n",
      "Iteration 1250, [1.7388172, 0.453125]\n",
      "Iteration 1300, [1.5574999, 0.515625]\n",
      "Iteration 1350, [1.5637271, 0.5390625]\n",
      "Iteration 1400, [1.7651365, 0.40625]\n",
      "Iteration 1450, [1.6414105, 0.4921875]\n",
      "Iteration 1500, [1.7719777, 0.421875]\n",
      "Iteration 1550, [1.6236327, 0.515625]\n",
      "Iteration 1600, [1.6260946, 0.421875]\n",
      "Iteration 1650, [1.7300998, 0.46875]\n",
      "Iteration 1700, [1.4416771, 0.546875]\n",
      "Iteration 1750, [1.5992039, 0.4921875]\n",
      "Iteration 1800, [1.5972548, 0.4609375]\n",
      "Iteration 1850, [1.5853173, 0.5390625]\n",
      "Iteration 1900, [1.4707239, 0.578125]\n"
     ]
    }
   ],
   "source": [
    "for i in range(2000):\n",
    "    stats = model.train_on_batch(*create_batch(data))\n",
    "    if i % 50 == 0:\n",
    "        print(\"Iteration {}, {}\".format(i, stats))"
   ]
  },
  {
   "cell_type": "code",
   "execution_count": null,
   "metadata": {
    "collapsed": true
   },
   "outputs": [],
   "source": []
  }
 ],
 "metadata": {
  "kernelspec": {
   "display_name": "Python [default]",
   "language": "python",
   "name": "python3"
  },
  "language_info": {
   "codemirror_mode": {
    "name": "ipython",
    "version": 3
   },
   "file_extension": ".py",
   "mimetype": "text/x-python",
   "name": "python",
   "nbconvert_exporter": "python",
   "pygments_lexer": "ipython3",
   "version": "3.6.0"
  }
 },
 "nbformat": 4,
 "nbformat_minor": 2
}
